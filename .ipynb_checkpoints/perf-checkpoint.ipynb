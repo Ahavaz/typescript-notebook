{
 "cells": [
  {
   "cell_type": "code",
   "execution_count": 1,
   "metadata": {
    "tags": [],
    "vscode": {
     "end_execution_time": "2020-10-12T04:15:49.608Z",
     "start_execution_time": "2020-10-12T04:15:49.596Z"
    }
   },
   "outputs": [
    {
     "name": "stdout",
     "output_type": "stream",
     "text": [
      "1\n"
     ]
    }
   ],
   "source": [
    "print(1)"
   ]
  },
  {
   "cell_type": "code",
   "execution_count": 2,
   "metadata": {
    "vscode": {
     "end_execution_time": "2020-10-12T04:15:49.622Z",
     "start_execution_time": "2020-10-12T04:15:49.614Z"
    }
   },
   "outputs": [],
   "source": [
    "import time\n",
    "start_time = time.time()"
   ]
  },
  {
   "cell_type": "code",
   "execution_count": 3,
   "metadata": {
    "tags": [],
    "vscode": {
     "end_execution_time": "2020-10-12T04:15:49.637Z",
     "start_execution_time": "2020-10-12T04:15:49.628Z"
    }
   },
   "outputs": [
    {
     "name": "stdout",
     "output_type": "stream",
     "text": [
      "0.0045032501220703125\n"
     ]
    }
   ],
   "source": [
    "elapsed_time = time.time() - start_time\n",
    "print(elapsed_time)\n"
   ]
  },
  {
   "cell_type": "code",
   "execution_count": 4,
   "metadata": {
    "vscode": {
     "end_execution_time": "2020-10-12T04:15:49.650Z",
     "start_execution_time": "2020-10-12T04:15:49.643Z"
    }
   },
   "outputs": [],
   "source": [
    "import time\n",
    "counter = 0\n",
    "start_time = time.time()"
   ]
  },
  {
   "cell_type": "code",
   "execution_count": 5,
   "metadata": {
    "tags": [],
    "vscode": {
     "end_execution_time": "2020-10-12T04:15:49.667Z",
     "start_execution_time": "2020-10-12T04:15:49.655Z"
    }
   },
   "outputs": [
    {
     "name": "stdout",
     "output_type": "stream",
     "text": [
      "0.0023050308227539062\n"
     ]
    }
   ],
   "source": [
    "import time\n",
    "elapsed_time = time.time() - start_time\n",
    "print(elapsed_time)"
   ]
  },
  {
   "cell_type": "code",
   "execution_count": 6,
   "metadata": {
    "tags": [],
    "vscode": {
     "end_execution_time": "2020-10-12T04:15:49.683Z",
     "start_execution_time": "2020-10-12T04:15:49.673Z"
    }
   },
   "outputs": [
    {
     "name": "stdout",
     "output_type": "stream",
     "text": [
      "0.004985809326171875\n"
     ]
    }
   ],
   "source": [
    "import time\n",
    "elapsed_time = time.time() - start_time\n",
    "print(elapsed_time)"
   ]
  },
  {
   "cell_type": "code",
   "execution_count": 7,
   "metadata": {
    "tags": [],
    "vscode": {
     "end_execution_time": "2020-10-12T04:15:49.700Z",
     "start_execution_time": "2020-10-12T04:15:49.688Z"
    }
   },
   "outputs": [
    {
     "name": "stdout",
     "output_type": "stream",
     "text": [
      "0.00733494758605957\n"
     ]
    }
   ],
   "source": [
    "import time\n",
    "elapsed_time = time.time() - start_time\n",
    "print(elapsed_time)"
   ]
  },
  {
   "cell_type": "code",
   "execution_count": 8,
   "metadata": {
    "tags": [],
    "vscode": {
     "end_execution_time": "2020-10-12T04:15:49.715Z",
     "start_execution_time": "2020-10-12T04:15:49.705Z"
    }
   },
   "outputs": [
    {
     "name": "stdout",
     "output_type": "stream",
     "text": [
      "0.01075887680053711\n"
     ]
    }
   ],
   "source": [
    "import time\n",
    "elapsed_time = time.time() - start_time\n",
    "print(elapsed_time)"
   ]
  },
  {
   "cell_type": "code",
   "execution_count": 9,
   "metadata": {
    "tags": [],
    "vscode": {
     "end_execution_time": "2020-10-12T04:15:49.728Z",
     "start_execution_time": "2020-10-12T04:15:49.720Z"
    }
   },
   "outputs": [
    {
     "name": "stdout",
     "output_type": "stream",
     "text": [
      "0.013892889022827148\n"
     ]
    }
   ],
   "source": [
    "import time\n",
    "elapsed_time = time.time() - start_time\n",
    "print(elapsed_time)"
   ]
  },
  {
   "cell_type": "code",
   "execution_count": 10,
   "metadata": {
    "tags": [],
    "vscode": {
     "end_execution_time": "2020-10-12T04:15:49.747Z",
     "start_execution_time": "2020-10-12T04:15:49.737Z"
    }
   },
   "outputs": [
    {
     "name": "stdout",
     "output_type": "stream",
     "text": [
      "0.016028881072998047\n"
     ]
    }
   ],
   "source": [
    "import time\n",
    "elapsed_time = time.time() - start_time\n",
    "print(elapsed_time)"
   ]
  },
  {
   "cell_type": "code",
   "execution_count": 11,
   "metadata": {
    "tags": [],
    "vscode": {
     "end_execution_time": "2020-10-12T04:15:49.762Z",
     "start_execution_time": "2020-10-12T04:15:49.753Z"
    }
   },
   "outputs": [
    {
     "name": "stdout",
     "output_type": "stream",
     "text": [
      "0.018635034561157227\n"
     ]
    }
   ],
   "source": [
    "import time\n",
    "elapsed_time = time.time() - start_time\n",
    "print(elapsed_time)"
   ]
  },
  {
   "cell_type": "code",
   "execution_count": 12,
   "metadata": {
    "tags": [],
    "vscode": {
     "end_execution_time": "2020-10-12T04:15:49.787Z",
     "start_execution_time": "2020-10-12T04:15:49.777Z"
    }
   },
   "outputs": [
    {
     "name": "stdout",
     "output_type": "stream",
     "text": [
      "0.020964860916137695\n"
     ]
    }
   ],
   "source": [
    "import time\n",
    "elapsed_time = time.time() - start_time\n",
    "print(elapsed_time)"
   ]
  },
  {
   "cell_type": "code",
   "execution_count": 13,
   "metadata": {
    "tags": [],
    "vscode": {
     "end_execution_time": "2020-10-12T04:15:49.806Z",
     "start_execution_time": "2020-10-12T04:15:49.792Z"
    }
   },
   "outputs": [
    {
     "name": "stdout",
     "output_type": "stream",
     "text": [
      "0.023013830184936523\n"
     ]
    }
   ],
   "source": [
    "import time\n",
    "elapsed_time = time.time() - start_time\n",
    "print(elapsed_time)"
   ]
  },
  {
   "cell_type": "code",
   "execution_count": 14,
   "metadata": {
    "tags": [],
    "vscode": {
     "end_execution_time": "2020-10-12T04:15:49.821Z",
     "start_execution_time": "2020-10-12T04:15:49.812Z"
    }
   },
   "outputs": [
    {
     "name": "stdout",
     "output_type": "stream",
     "text": [
      "0.025212764739990234\n"
     ]
    }
   ],
   "source": [
    "import time\n",
    "elapsed_time = time.time() - start_time\n",
    "print(elapsed_time)"
   ]
  },
  {
   "cell_type": "code",
   "execution_count": 15,
   "metadata": {
    "tags": [],
    "vscode": {
     "end_execution_time": "2020-10-12T04:15:49.844Z",
     "start_execution_time": "2020-10-12T04:15:49.831Z"
    }
   },
   "outputs": [
    {
     "name": "stdout",
     "output_type": "stream",
     "text": [
      "0.02717900276184082\n"
     ]
    }
   ],
   "source": [
    "import time\n",
    "elapsed_time = time.time() - start_time\n",
    "print(elapsed_time)"
   ]
  },
  {
   "cell_type": "code",
   "execution_count": 16,
   "metadata": {
    "tags": [],
    "vscode": {
     "end_execution_time": "2020-10-12T04:15:49.858Z",
     "start_execution_time": "2020-10-12T04:15:49.849Z"
    }
   },
   "outputs": [
    {
     "name": "stdout",
     "output_type": "stream",
     "text": [
      "0.029230833053588867\n"
     ]
    }
   ],
   "source": [
    "import time\n",
    "elapsed_time = time.time() - start_time\n",
    "print(elapsed_time)"
   ]
  },
  {
   "cell_type": "code",
   "execution_count": 17,
   "metadata": {
    "tags": [],
    "vscode": {
     "end_execution_time": "2020-10-12T04:15:49.874Z",
     "start_execution_time": "2020-10-12T04:15:49.864Z"
    }
   },
   "outputs": [
    {
     "name": "stdout",
     "output_type": "stream",
     "text": [
      "0.031282901763916016\n"
     ]
    }
   ],
   "source": [
    "import time\n",
    "elapsed_time = time.time() - start_time\n",
    "print(elapsed_time)"
   ]
  },
  {
   "cell_type": "code",
   "execution_count": 18,
   "metadata": {
    "tags": [],
    "vscode": {
     "end_execution_time": "2020-10-12T04:15:49.889Z",
     "start_execution_time": "2020-10-12T04:15:49.879Z"
    }
   },
   "outputs": [
    {
     "name": "stdout",
     "output_type": "stream",
     "text": [
      "0.033188819885253906\n"
     ]
    }
   ],
   "source": [
    "import time\n",
    "elapsed_time = time.time() - start_time\n",
    "print(elapsed_time)"
   ]
  },
  {
   "cell_type": "code",
   "execution_count": 19,
   "metadata": {
    "tags": [],
    "vscode": {
     "end_execution_time": "2020-10-12T04:15:49.903Z",
     "start_execution_time": "2020-10-12T04:15:49.894Z"
    }
   },
   "outputs": [
    {
     "name": "stdout",
     "output_type": "stream",
     "text": [
      "0.03522777557373047\n"
     ]
    }
   ],
   "source": [
    "import time\n",
    "elapsed_time = time.time() - start_time\n",
    "print(elapsed_time)"
   ]
  },
  {
   "cell_type": "code",
   "execution_count": 20,
   "metadata": {
    "tags": [],
    "vscode": {
     "end_execution_time": "2020-10-12T04:15:49.922Z",
     "start_execution_time": "2020-10-12T04:15:49.909Z"
    }
   },
   "outputs": [
    {
     "name": "stdout",
     "output_type": "stream",
     "text": [
      "0.03758597373962402\n"
     ]
    }
   ],
   "source": [
    "import time\n",
    "elapsed_time = time.time() - start_time\n",
    "print(elapsed_time)"
   ]
  },
  {
   "cell_type": "code",
   "execution_count": 21,
   "metadata": {
    "tags": [],
    "vscode": {
     "end_execution_time": "2020-10-12T04:15:49.937Z",
     "start_execution_time": "2020-10-12T04:15:49.927Z"
    }
   },
   "outputs": [
    {
     "name": "stdout",
     "output_type": "stream",
     "text": [
      "0.03951382637023926\n"
     ]
    }
   ],
   "source": [
    "import time\n",
    "elapsed_time = time.time() - start_time\n",
    "print(elapsed_time)"
   ]
  },
  {
   "cell_type": "code",
   "execution_count": 22,
   "metadata": {
    "tags": [],
    "vscode": {
     "end_execution_time": "2020-10-12T04:15:49.952Z",
     "start_execution_time": "2020-10-12T04:15:49.942Z"
    }
   },
   "outputs": [
    {
     "name": "stdout",
     "output_type": "stream",
     "text": [
      "0.04149580001831055\n"
     ]
    }
   ],
   "source": [
    "import time\n",
    "elapsed_time = time.time() - start_time\n",
    "print(elapsed_time)"
   ]
  },
  {
   "cell_type": "code",
   "execution_count": 23,
   "metadata": {
    "tags": [],
    "vscode": {
     "end_execution_time": "2020-10-12T04:15:49.965Z",
     "start_execution_time": "2020-10-12T04:15:49.957Z"
    }
   },
   "outputs": [
    {
     "name": "stdout",
     "output_type": "stream",
     "text": [
      "0.04672574996948242\n"
     ]
    }
   ],
   "source": [
    "import time\n",
    "elapsed_time = time.time() - start_time\n",
    "print(elapsed_time)"
   ]
  },
  {
   "cell_type": "code",
   "execution_count": 24,
   "metadata": {
    "tags": [],
    "vscode": {
     "end_execution_time": "2020-10-12T04:15:49.981Z",
     "start_execution_time": "2020-10-12T04:15:49.972Z"
    }
   },
   "outputs": [
    {
     "name": "stdout",
     "output_type": "stream",
     "text": [
      "0.050470829010009766\n"
     ]
    }
   ],
   "source": [
    "import time\n",
    "elapsed_time = time.time() - start_time\n",
    "print(elapsed_time)"
   ]
  },
  {
   "cell_type": "code",
   "execution_count": 25,
   "metadata": {
    "tags": [],
    "vscode": {
     "end_execution_time": "2020-10-12T04:15:49.999Z",
     "start_execution_time": "2020-10-12T04:15:49.990Z"
    }
   },
   "outputs": [
    {
     "name": "stdout",
     "output_type": "stream",
     "text": [
      "0.05259084701538086\n"
     ]
    }
   ],
   "source": [
    "import time\n",
    "elapsed_time = time.time() - start_time\n",
    "print(elapsed_time)"
   ]
  },
  {
   "cell_type": "code",
   "execution_count": 26,
   "metadata": {
    "tags": [],
    "vscode": {
     "end_execution_time": "2020-10-12T04:15:50.014Z",
     "start_execution_time": "2020-10-12T04:15:50.005Z"
    }
   },
   "outputs": [
    {
     "name": "stdout",
     "output_type": "stream",
     "text": [
      "0.05460977554321289\n"
     ]
    }
   ],
   "source": [
    "import time\n",
    "elapsed_time = time.time() - start_time\n",
    "print(elapsed_time)"
   ]
  },
  {
   "cell_type": "code",
   "execution_count": 27,
   "metadata": {
    "tags": [],
    "vscode": {
     "end_execution_time": "2020-10-12T04:15:50.038Z",
     "start_execution_time": "2020-10-12T04:15:50.028Z"
    }
   },
   "outputs": [
    {
     "name": "stdout",
     "output_type": "stream",
     "text": [
      "0.05664682388305664\n"
     ]
    }
   ],
   "source": [
    "import time\n",
    "elapsed_time = time.time() - start_time\n",
    "print(elapsed_time)"
   ]
  },
  {
   "cell_type": "code",
   "execution_count": 28,
   "metadata": {
    "tags": [],
    "vscode": {
     "end_execution_time": "2020-10-12T04:15:50.059Z",
     "start_execution_time": "2020-10-12T04:15:50.048Z"
    }
   },
   "outputs": [
    {
     "name": "stdout",
     "output_type": "stream",
     "text": [
      "0.058827877044677734\n"
     ]
    }
   ],
   "source": [
    "import time\n",
    "elapsed_time = time.time() - start_time\n",
    "print(elapsed_time)"
   ]
  },
  {
   "cell_type": "code",
   "execution_count": 29,
   "metadata": {
    "tags": [],
    "vscode": {
     "end_execution_time": "2020-10-12T04:15:50.074Z",
     "start_execution_time": "2020-10-12T04:15:50.065Z"
    }
   },
   "outputs": [
    {
     "name": "stdout",
     "output_type": "stream",
     "text": [
      "0.060714006423950195\n"
     ]
    }
   ],
   "source": [
    "import time\n",
    "elapsed_time = time.time() - start_time\n",
    "print(elapsed_time)"
   ]
  },
  {
   "cell_type": "code",
   "execution_count": 30,
   "metadata": {
    "tags": [],
    "vscode": {
     "end_execution_time": "2020-10-12T04:15:50.089Z",
     "start_execution_time": "2020-10-12T04:15:50.080Z"
    }
   },
   "outputs": [
    {
     "name": "stdout",
     "output_type": "stream",
     "text": [
      "0.06277871131896973\n"
     ]
    }
   ],
   "source": [
    "import time\n",
    "elapsed_time = time.time() - start_time\n",
    "print(elapsed_time)"
   ]
  },
  {
   "cell_type": "code",
   "execution_count": 31,
   "metadata": {
    "tags": [],
    "vscode": {
     "end_execution_time": "2020-10-12T04:15:50.103Z",
     "start_execution_time": "2020-10-12T04:15:50.094Z"
    }
   },
   "outputs": [
    {
     "name": "stdout",
     "output_type": "stream",
     "text": [
      "0.06496095657348633\n"
     ]
    }
   ],
   "source": [
    "import time\n",
    "elapsed_time = time.time() - start_time\n",
    "print(elapsed_time)"
   ]
  },
  {
   "cell_type": "code",
   "execution_count": 32,
   "metadata": {
    "tags": [],
    "vscode": {
     "end_execution_time": "2020-10-12T04:15:50.116Z",
     "start_execution_time": "2020-10-12T04:15:50.108Z"
    }
   },
   "outputs": [
    {
     "name": "stdout",
     "output_type": "stream",
     "text": [
      "0.06704878807067871\n"
     ]
    }
   ],
   "source": [
    "import time\n",
    "elapsed_time = time.time() - start_time\n",
    "print(elapsed_time)"
   ]
  },
  {
   "cell_type": "code",
   "execution_count": 33,
   "metadata": {
    "tags": [],
    "vscode": {
     "end_execution_time": "2020-10-12T04:15:50.159Z",
     "start_execution_time": "2020-10-12T04:15:50.130Z"
    }
   },
   "outputs": [
    {
     "name": "stdout",
     "output_type": "stream",
     "text": [
      "0.06911897659301758\n"
     ]
    }
   ],
   "source": [
    "import time\n",
    "elapsed_time = time.time() - start_time\n",
    "print(elapsed_time)"
   ]
  },
  {
   "cell_type": "code",
   "execution_count": 34,
   "metadata": {
    "tags": [],
    "vscode": {
     "end_execution_time": "2020-10-12T04:15:50.190Z",
     "start_execution_time": "2020-10-12T04:15:50.179Z"
    }
   },
   "outputs": [
    {
     "name": "stdout",
     "output_type": "stream",
     "text": [
      "0.07115983963012695\n"
     ]
    }
   ],
   "source": [
    "import time\n",
    "elapsed_time = time.time() - start_time\n",
    "print(elapsed_time)"
   ]
  },
  {
   "cell_type": "code",
   "execution_count": 35,
   "metadata": {
    "tags": [],
    "vscode": {
     "end_execution_time": "2020-10-12T04:15:50.205Z",
     "start_execution_time": "2020-10-12T04:15:50.196Z"
    }
   },
   "outputs": [
    {
     "name": "stdout",
     "output_type": "stream",
     "text": [
      "0.07311487197875977\n"
     ]
    }
   ],
   "source": [
    "import time\n",
    "elapsed_time = time.time() - start_time\n",
    "print(elapsed_time)"
   ]
  },
  {
   "cell_type": "code",
   "execution_count": 36,
   "metadata": {
    "tags": [],
    "vscode": {
     "end_execution_time": "2020-10-12T04:15:50.220Z",
     "start_execution_time": "2020-10-12T04:15:50.211Z"
    }
   },
   "outputs": [
    {
     "name": "stdout",
     "output_type": "stream",
     "text": [
      "0.07513070106506348\n"
     ]
    }
   ],
   "source": [
    "import time\n",
    "elapsed_time = time.time() - start_time\n",
    "print(elapsed_time)"
   ]
  },
  {
   "cell_type": "code",
   "execution_count": 37,
   "metadata": {
    "tags": [],
    "vscode": {
     "end_execution_time": "2020-10-12T04:15:50.234Z",
     "start_execution_time": "2020-10-12T04:15:50.225Z"
    }
   },
   "outputs": [
    {
     "name": "stdout",
     "output_type": "stream",
     "text": [
      "0.07732582092285156\n"
     ]
    }
   ],
   "source": [
    "import time\n",
    "elapsed_time = time.time() - start_time\n",
    "print(elapsed_time)"
   ]
  },
  {
   "cell_type": "code",
   "execution_count": 38,
   "metadata": {
    "tags": [],
    "vscode": {
     "end_execution_time": "2020-10-12T04:15:50.250Z",
     "start_execution_time": "2020-10-12T04:15:50.241Z"
    }
   },
   "outputs": [
    {
     "name": "stdout",
     "output_type": "stream",
     "text": [
      "0.07945394515991211\n"
     ]
    }
   ],
   "source": [
    "import time\n",
    "elapsed_time = time.time() - start_time\n",
    "print(elapsed_time)"
   ]
  },
  {
   "cell_type": "code",
   "execution_count": 39,
   "metadata": {
    "tags": [],
    "vscode": {
     "end_execution_time": "2020-10-12T04:15:50.267Z",
     "start_execution_time": "2020-10-12T04:15:50.255Z"
    }
   },
   "outputs": [
    {
     "name": "stdout",
     "output_type": "stream",
     "text": [
      "0.08208107948303223\n"
     ]
    }
   ],
   "source": [
    "import time\n",
    "elapsed_time = time.time() - start_time\n",
    "print(elapsed_time)"
   ]
  },
  {
   "cell_type": "code",
   "execution_count": 40,
   "metadata": {
    "tags": [],
    "vscode": {
     "end_execution_time": "2020-10-12T04:15:50.281Z",
     "start_execution_time": "2020-10-12T04:15:50.272Z"
    }
   },
   "outputs": [
    {
     "name": "stdout",
     "output_type": "stream",
     "text": [
      "0.08405780792236328\n"
     ]
    }
   ],
   "source": [
    "import time\n",
    "elapsed_time = time.time() - start_time\n",
    "print(elapsed_time)"
   ]
  },
  {
   "cell_type": "code",
   "execution_count": 41,
   "metadata": {
    "tags": [],
    "vscode": {
     "end_execution_time": "2020-10-12T04:15:50.300Z",
     "start_execution_time": "2020-10-12T04:15:50.291Z"
    }
   },
   "outputs": [
    {
     "name": "stdout",
     "output_type": "stream",
     "text": [
      "0.08640384674072266\n"
     ]
    }
   ],
   "source": [
    "import time\n",
    "elapsed_time = time.time() - start_time\n",
    "print(elapsed_time)"
   ]
  },
  {
   "cell_type": "code",
   "execution_count": 42,
   "metadata": {
    "tags": [],
    "vscode": {
     "end_execution_time": "2020-10-12T04:15:50.319Z",
     "start_execution_time": "2020-10-12T04:15:50.310Z"
    }
   },
   "outputs": [
    {
     "name": "stdout",
     "output_type": "stream",
     "text": [
      "0.08984780311584473\n"
     ]
    }
   ],
   "source": [
    "import time\n",
    "elapsed_time = time.time() - start_time\n",
    "print(elapsed_time)"
   ]
  },
  {
   "cell_type": "code",
   "execution_count": 43,
   "metadata": {
    "tags": [],
    "vscode": {
     "end_execution_time": "2020-10-12T04:15:50.338Z",
     "start_execution_time": "2020-10-12T04:15:50.329Z"
    }
   },
   "outputs": [
    {
     "name": "stdout",
     "output_type": "stream",
     "text": [
      "0.09398889541625977\n"
     ]
    }
   ],
   "source": [
    "import time\n",
    "elapsed_time = time.time() - start_time\n",
    "print(elapsed_time)"
   ]
  },
  {
   "cell_type": "code",
   "execution_count": 44,
   "metadata": {
    "tags": [],
    "vscode": {
     "end_execution_time": "2020-10-12T04:15:50.355Z",
     "start_execution_time": "2020-10-12T04:15:50.344Z"
    }
   },
   "outputs": [
    {
     "name": "stdout",
     "output_type": "stream",
     "text": [
      "0.09656596183776855\n"
     ]
    }
   ],
   "source": [
    "import time\n",
    "elapsed_time = time.time() - start_time\n",
    "print(elapsed_time)"
   ]
  },
  {
   "cell_type": "code",
   "execution_count": 45,
   "metadata": {
    "tags": [],
    "vscode": {
     "end_execution_time": "2020-10-12T04:15:50.372Z",
     "start_execution_time": "2020-10-12T04:15:50.361Z"
    }
   },
   "outputs": [
    {
     "name": "stdout",
     "output_type": "stream",
     "text": [
      "0.09883594512939453\n"
     ]
    }
   ],
   "source": [
    "import time\n",
    "elapsed_time = time.time() - start_time\n",
    "print(elapsed_time)"
   ]
  },
  {
   "cell_type": "code",
   "execution_count": 46,
   "metadata": {
    "tags": [],
    "vscode": {
     "end_execution_time": "2020-10-12T04:15:50.386Z",
     "start_execution_time": "2020-10-12T04:15:50.377Z"
    }
   },
   "outputs": [
    {
     "name": "stdout",
     "output_type": "stream",
     "text": [
      "0.10095381736755371\n"
     ]
    }
   ],
   "source": [
    "import time\n",
    "elapsed_time = time.time() - start_time\n",
    "print(elapsed_time)"
   ]
  },
  {
   "cell_type": "code",
   "execution_count": 47,
   "metadata": {
    "tags": [],
    "vscode": {
     "end_execution_time": "2020-10-12T04:15:50.406Z",
     "start_execution_time": "2020-10-12T04:15:50.396Z"
    }
   },
   "outputs": [
    {
     "name": "stdout",
     "output_type": "stream",
     "text": [
      "0.10300803184509277\n"
     ]
    }
   ],
   "source": [
    "import time\n",
    "elapsed_time = time.time() - start_time\n",
    "print(elapsed_time)"
   ]
  },
  {
   "cell_type": "code",
   "execution_count": 48,
   "metadata": {
    "tags": [],
    "vscode": {
     "end_execution_time": "2020-10-12T04:15:50.425Z",
     "start_execution_time": "2020-10-12T04:15:50.416Z"
    }
   },
   "outputs": [
    {
     "name": "stdout",
     "output_type": "stream",
     "text": [
      "0.10553693771362305\n"
     ]
    }
   ],
   "source": [
    "import time\n",
    "elapsed_time = time.time() - start_time\n",
    "print(elapsed_time)"
   ]
  },
  {
   "cell_type": "code",
   "execution_count": 49,
   "metadata": {
    "tags": [],
    "vscode": {
     "end_execution_time": "2020-10-12T04:15:50.440Z",
     "start_execution_time": "2020-10-12T04:15:50.431Z"
    }
   },
   "outputs": [
    {
     "name": "stdout",
     "output_type": "stream",
     "text": [
      "0.10780906677246094\n"
     ]
    }
   ],
   "source": [
    "import time\n",
    "elapsed_time = time.time() - start_time\n",
    "print(elapsed_time)"
   ]
  },
  {
   "cell_type": "code",
   "execution_count": 50,
   "metadata": {
    "tags": [],
    "vscode": {
     "end_execution_time": "2020-10-12T04:15:50.457Z",
     "start_execution_time": "2020-10-12T04:15:50.448Z"
    }
   },
   "outputs": [
    {
     "name": "stdout",
     "output_type": "stream",
     "text": [
      "0.11059880256652832\n"
     ]
    }
   ],
   "source": [
    "import time\n",
    "elapsed_time = time.time() - start_time\n",
    "print(elapsed_time)"
   ]
  },
  {
   "cell_type": "code",
   "execution_count": 51,
   "metadata": {
    "tags": [],
    "vscode": {
     "end_execution_time": "2020-10-12T04:15:50.472Z",
     "start_execution_time": "2020-10-12T04:15:50.463Z"
    }
   },
   "outputs": [
    {
     "name": "stdout",
     "output_type": "stream",
     "text": [
      "0.11270499229431152\n"
     ]
    }
   ],
   "source": [
    "import time\n",
    "elapsed_time = time.time() - start_time\n",
    "print(elapsed_time)"
   ]
  },
  {
   "cell_type": "code",
   "execution_count": 52,
   "metadata": {
    "tags": [],
    "vscode": {
     "end_execution_time": "2020-10-12T04:15:50.485Z",
     "start_execution_time": "2020-10-12T04:15:50.477Z"
    }
   },
   "outputs": [
    {
     "name": "stdout",
     "output_type": "stream",
     "text": [
      "0.11474466323852539\n"
     ]
    }
   ],
   "source": [
    "import time\n",
    "elapsed_time = time.time() - start_time\n",
    "print(elapsed_time)"
   ]
  },
  {
   "cell_type": "code",
   "execution_count": 53,
   "metadata": {
    "tags": [],
    "vscode": {
     "end_execution_time": "2020-10-12T04:15:50.498Z",
     "start_execution_time": "2020-10-12T04:15:50.490Z"
    }
   },
   "outputs": [
    {
     "name": "stdout",
     "output_type": "stream",
     "text": [
      "0.11705183982849121\n"
     ]
    }
   ],
   "source": [
    "import time\n",
    "elapsed_time = time.time() - start_time\n",
    "print(elapsed_time)"
   ]
  },
  {
   "cell_type": "code",
   "execution_count": 54,
   "metadata": {
    "tags": [],
    "vscode": {
     "end_execution_time": "2020-10-12T04:15:50.516Z",
     "start_execution_time": "2020-10-12T04:15:50.504Z"
    }
   },
   "outputs": [
    {
     "name": "stdout",
     "output_type": "stream",
     "text": [
      "0.11911296844482422\n"
     ]
    }
   ],
   "source": [
    "import time\n",
    "elapsed_time = time.time() - start_time\n",
    "print(elapsed_time)"
   ]
  },
  {
   "cell_type": "code",
   "execution_count": 55,
   "metadata": {
    "tags": [],
    "vscode": {
     "end_execution_time": "2020-10-12T04:15:50.531Z",
     "start_execution_time": "2020-10-12T04:15:50.522Z"
    }
   },
   "outputs": [
    {
     "name": "stdout",
     "output_type": "stream",
     "text": [
      "0.12103986740112305\n"
     ]
    }
   ],
   "source": [
    "import time\n",
    "elapsed_time = time.time() - start_time\n",
    "print(elapsed_time)"
   ]
  },
  {
   "cell_type": "code",
   "execution_count": 56,
   "metadata": {
    "tags": [],
    "vscode": {
     "end_execution_time": "2020-10-12T04:15:50.555Z",
     "start_execution_time": "2020-10-12T04:15:50.540Z"
    }
   },
   "outputs": [
    {
     "name": "stdout",
     "output_type": "stream",
     "text": [
      "0.12312769889831543\n"
     ]
    }
   ],
   "source": [
    "import time\n",
    "elapsed_time = time.time() - start_time\n",
    "print(elapsed_time)"
   ]
  },
  {
   "cell_type": "code",
   "execution_count": 57,
   "metadata": {
    "tags": [],
    "vscode": {
     "end_execution_time": "2020-10-12T04:15:50.575Z",
     "start_execution_time": "2020-10-12T04:15:50.561Z"
    }
   },
   "outputs": [
    {
     "name": "stdout",
     "output_type": "stream",
     "text": [
      "0.1251678466796875\n"
     ]
    }
   ],
   "source": [
    "import time\n",
    "elapsed_time = time.time() - start_time\n",
    "print(elapsed_time)"
   ]
  },
  {
   "cell_type": "code",
   "execution_count": 58,
   "metadata": {
    "tags": [],
    "vscode": {
     "end_execution_time": "2020-10-12T04:15:50.596Z",
     "start_execution_time": "2020-10-12T04:15:50.582Z"
    }
   },
   "outputs": [
    {
     "name": "stdout",
     "output_type": "stream",
     "text": [
      "0.12743091583251953\n"
     ]
    }
   ],
   "source": [
    "import time\n",
    "elapsed_time = time.time() - start_time\n",
    "print(elapsed_time)"
   ]
  },
  {
   "cell_type": "code",
   "execution_count": 59,
   "metadata": {
    "tags": [],
    "vscode": {
     "end_execution_time": "2020-10-12T04:15:50.611Z",
     "start_execution_time": "2020-10-12T04:15:50.602Z"
    }
   },
   "outputs": [
    {
     "name": "stdout",
     "output_type": "stream",
     "text": [
      "0.1296398639678955\n"
     ]
    }
   ],
   "source": [
    "import time\n",
    "elapsed_time = time.time() - start_time\n",
    "print(elapsed_time)"
   ]
  },
  {
   "cell_type": "code",
   "execution_count": 60,
   "metadata": {
    "tags": [],
    "vscode": {
     "end_execution_time": "2020-10-12T04:15:50.626Z",
     "start_execution_time": "2020-10-12T04:15:50.617Z"
    }
   },
   "outputs": [
    {
     "name": "stdout",
     "output_type": "stream",
     "text": [
      "0.1317739486694336\n"
     ]
    }
   ],
   "source": [
    "import time\n",
    "elapsed_time = time.time() - start_time\n",
    "print(elapsed_time)"
   ]
  },
  {
   "cell_type": "code",
   "execution_count": 61,
   "metadata": {
    "tags": [],
    "vscode": {
     "end_execution_time": "2020-10-12T04:15:50.639Z",
     "start_execution_time": "2020-10-12T04:15:50.631Z"
    }
   },
   "outputs": [
    {
     "name": "stdout",
     "output_type": "stream",
     "text": [
      "0.13395285606384277\n"
     ]
    }
   ],
   "source": [
    "import time\n",
    "elapsed_time = time.time() - start_time\n",
    "print(elapsed_time)"
   ]
  },
  {
   "cell_type": "code",
   "execution_count": 62,
   "metadata": {
    "tags": [],
    "vscode": {
     "end_execution_time": "2020-10-12T04:15:50.658Z",
     "start_execution_time": "2020-10-12T04:15:50.644Z"
    }
   },
   "outputs": [
    {
     "name": "stdout",
     "output_type": "stream",
     "text": [
      "0.13600683212280273\n"
     ]
    }
   ],
   "source": [
    "import time\n",
    "elapsed_time = time.time() - start_time\n",
    "print(elapsed_time)"
   ]
  },
  {
   "cell_type": "code",
   "execution_count": 63,
   "metadata": {
    "tags": [],
    "vscode": {
     "end_execution_time": "2020-10-12T04:15:50.672Z",
     "start_execution_time": "2020-10-12T04:15:50.663Z"
    }
   },
   "outputs": [
    {
     "name": "stdout",
     "output_type": "stream",
     "text": [
      "0.13825106620788574\n"
     ]
    }
   ],
   "source": [
    "import time\n",
    "elapsed_time = time.time() - start_time\n",
    "print(elapsed_time)"
   ]
  },
  {
   "cell_type": "code",
   "execution_count": 64,
   "metadata": {
    "tags": [],
    "vscode": {
     "end_execution_time": "2020-10-12T04:15:50.689Z",
     "start_execution_time": "2020-10-12T04:15:50.679Z"
    }
   },
   "outputs": [
    {
     "name": "stdout",
     "output_type": "stream",
     "text": [
      "0.14031004905700684\n"
     ]
    }
   ],
   "source": [
    "import time\n",
    "elapsed_time = time.time() - start_time\n",
    "print(elapsed_time)"
   ]
  },
  {
   "cell_type": "code",
   "execution_count": 65,
   "metadata": {
    "tags": [],
    "vscode": {
     "end_execution_time": "2020-10-12T04:15:50.706Z",
     "start_execution_time": "2020-10-12T04:15:50.695Z"
    }
   },
   "outputs": [
    {
     "name": "stdout",
     "output_type": "stream",
     "text": [
      "0.14250683784484863\n"
     ]
    }
   ],
   "source": [
    "import time\n",
    "elapsed_time = time.time() - start_time\n",
    "print(elapsed_time)"
   ]
  },
  {
   "cell_type": "code",
   "execution_count": 66,
   "metadata": {
    "tags": [],
    "vscode": {
     "end_execution_time": "2020-10-12T04:15:50.721Z",
     "start_execution_time": "2020-10-12T04:15:50.712Z"
    }
   },
   "outputs": [
    {
     "name": "stdout",
     "output_type": "stream",
     "text": [
      "0.14934682846069336\n"
     ]
    }
   ],
   "source": [
    "import time\n",
    "elapsed_time = time.time() - start_time\n",
    "print(elapsed_time)"
   ]
  },
  {
   "cell_type": "code",
   "execution_count": 67,
   "metadata": {
    "tags": [],
    "vscode": {
     "end_execution_time": "2020-10-12T04:15:50.736Z",
     "start_execution_time": "2020-10-12T04:15:50.727Z"
    }
   },
   "outputs": [
    {
     "name": "stdout",
     "output_type": "stream",
     "text": [
      "0.15155386924743652\n"
     ]
    }
   ],
   "source": [
    "import time\n",
    "elapsed_time = time.time() - start_time\n",
    "print(elapsed_time)"
   ]
  },
  {
   "cell_type": "code",
   "execution_count": 68,
   "metadata": {
    "tags": [],
    "vscode": {
     "end_execution_time": "2020-10-12T04:15:50.755Z",
     "start_execution_time": "2020-10-12T04:15:50.742Z"
    }
   },
   "outputs": [
    {
     "name": "stdout",
     "output_type": "stream",
     "text": [
      "0.1612858772277832\n"
     ]
    }
   ],
   "source": [
    "import time\n",
    "elapsed_time = time.time() - start_time\n",
    "print(elapsed_time)"
   ]
  },
  {
   "cell_type": "code",
   "execution_count": 69,
   "metadata": {
    "tags": [],
    "vscode": {
     "end_execution_time": "2020-10-12T04:15:50.769Z",
     "start_execution_time": "2020-10-12T04:15:50.759Z"
    }
   },
   "outputs": [
    {
     "name": "stdout",
     "output_type": "stream",
     "text": [
      "0.16728878021240234\n"
     ]
    }
   ],
   "source": [
    "import time\n",
    "elapsed_time = time.time() - start_time\n",
    "print(elapsed_time)"
   ]
  },
  {
   "cell_type": "code",
   "execution_count": 70,
   "metadata": {
    "tags": [],
    "vscode": {
     "end_execution_time": "2020-10-12T04:15:50.783Z",
     "start_execution_time": "2020-10-12T04:15:50.774Z"
    }
   },
   "outputs": [
    {
     "name": "stdout",
     "output_type": "stream",
     "text": [
      "0.1694316864013672\n"
     ]
    }
   ],
   "source": [
    "import time\n",
    "elapsed_time = time.time() - start_time\n",
    "print(elapsed_time)"
   ]
  },
  {
   "cell_type": "code",
   "execution_count": 71,
   "metadata": {
    "tags": [],
    "vscode": {
     "end_execution_time": "2020-10-12T04:15:50.806Z",
     "start_execution_time": "2020-10-12T04:15:50.794Z"
    }
   },
   "outputs": [
    {
     "name": "stdout",
     "output_type": "stream",
     "text": [
      "0.17151284217834473\n"
     ]
    }
   ],
   "source": [
    "import time\n",
    "elapsed_time = time.time() - start_time\n",
    "print(elapsed_time)"
   ]
  },
  {
   "cell_type": "code",
   "execution_count": 72,
   "metadata": {
    "tags": [],
    "vscode": {
     "end_execution_time": "2020-10-12T04:15:50.825Z",
     "start_execution_time": "2020-10-12T04:15:50.812Z"
    }
   },
   "outputs": [
    {
     "name": "stdout",
     "output_type": "stream",
     "text": [
      "0.1734619140625\n"
     ]
    }
   ],
   "source": [
    "import time\n",
    "elapsed_time = time.time() - start_time\n",
    "print(elapsed_time)"
   ]
  },
  {
   "cell_type": "code",
   "execution_count": 73,
   "metadata": {
    "tags": [],
    "vscode": {
     "end_execution_time": "2020-10-12T04:15:50.844Z",
     "start_execution_time": "2020-10-12T04:15:50.835Z"
    }
   },
   "outputs": [
    {
     "name": "stdout",
     "output_type": "stream",
     "text": [
      "0.17562294006347656\n"
     ]
    }
   ],
   "source": [
    "import time\n",
    "elapsed_time = time.time() - start_time\n",
    "print(elapsed_time)"
   ]
  },
  {
   "cell_type": "code",
   "execution_count": 74,
   "metadata": {
    "tags": [],
    "vscode": {
     "end_execution_time": "2020-10-12T04:15:50.864Z",
     "start_execution_time": "2020-10-12T04:15:50.855Z"
    }
   },
   "outputs": [
    {
     "name": "stdout",
     "output_type": "stream",
     "text": [
      "0.177717924118042\n"
     ]
    }
   ],
   "source": [
    "import time\n",
    "elapsed_time = time.time() - start_time\n",
    "print(elapsed_time)"
   ]
  },
  {
   "cell_type": "code",
   "execution_count": 75,
   "metadata": {
    "tags": [],
    "vscode": {
     "end_execution_time": "2020-10-12T04:15:50.878Z",
     "start_execution_time": "2020-10-12T04:15:50.870Z"
    }
   },
   "outputs": [
    {
     "name": "stdout",
     "output_type": "stream",
     "text": [
      "0.1797468662261963\n"
     ]
    }
   ],
   "source": [
    "import time\n",
    "elapsed_time = time.time() - start_time\n",
    "print(elapsed_time)"
   ]
  },
  {
   "cell_type": "code",
   "execution_count": 76,
   "metadata": {
    "tags": [],
    "vscode": {
     "end_execution_time": "2020-10-12T04:15:50.898Z",
     "start_execution_time": "2020-10-12T04:15:50.888Z"
    }
   },
   "outputs": [
    {
     "name": "stdout",
     "output_type": "stream",
     "text": [
      "0.18187284469604492\n"
     ]
    }
   ],
   "source": [
    "import time\n",
    "elapsed_time = time.time() - start_time\n",
    "print(elapsed_time)"
   ]
  },
  {
   "cell_type": "code",
   "execution_count": 77,
   "metadata": {
    "tags": [],
    "vscode": {
     "end_execution_time": "2020-10-12T04:15:50.917Z",
     "start_execution_time": "2020-10-12T04:15:50.908Z"
    }
   },
   "outputs": [
    {
     "name": "stdout",
     "output_type": "stream",
     "text": [
      "0.18394684791564941\n"
     ]
    }
   ],
   "source": [
    "import time\n",
    "elapsed_time = time.time() - start_time\n",
    "print(elapsed_time)"
   ]
  },
  {
   "cell_type": "code",
   "execution_count": 78,
   "metadata": {
    "tags": [],
    "vscode": {
     "end_execution_time": "2020-10-12T04:15:50.931Z",
     "start_execution_time": "2020-10-12T04:15:50.922Z"
    }
   },
   "outputs": [
    {
     "name": "stdout",
     "output_type": "stream",
     "text": [
      "0.18598294258117676\n"
     ]
    }
   ],
   "source": [
    "import time\n",
    "elapsed_time = time.time() - start_time\n",
    "print(elapsed_time)"
   ]
  },
  {
   "cell_type": "code",
   "execution_count": 79,
   "metadata": {
    "tags": [],
    "vscode": {
     "end_execution_time": "2020-10-12T04:15:50.946Z",
     "start_execution_time": "2020-10-12T04:15:50.937Z"
    }
   },
   "outputs": [
    {
     "name": "stdout",
     "output_type": "stream",
     "text": [
      "0.18806672096252441\n"
     ]
    }
   ],
   "source": [
    "import time\n",
    "elapsed_time = time.time() - start_time\n",
    "print(elapsed_time)"
   ]
  },
  {
   "cell_type": "code",
   "execution_count": 80,
   "metadata": {
    "tags": [],
    "vscode": {
     "end_execution_time": "2020-10-12T04:15:50.966Z",
     "start_execution_time": "2020-10-12T04:15:50.956Z"
    }
   },
   "outputs": [
    {
     "name": "stdout",
     "output_type": "stream",
     "text": [
      "0.19017386436462402\n"
     ]
    }
   ],
   "source": [
    "import time\n",
    "elapsed_time = time.time() - start_time\n",
    "print(elapsed_time)"
   ]
  },
  {
   "cell_type": "code",
   "execution_count": 81,
   "metadata": {
    "tags": [],
    "vscode": {
     "end_execution_time": "2020-10-12T04:15:50.987Z",
     "start_execution_time": "2020-10-12T04:15:50.974Z"
    }
   },
   "outputs": [
    {
     "name": "stdout",
     "output_type": "stream",
     "text": [
      "0.19212698936462402\n"
     ]
    }
   ],
   "source": [
    "import time\n",
    "elapsed_time = time.time() - start_time\n",
    "print(elapsed_time)"
   ]
  },
  {
   "cell_type": "code",
   "execution_count": 82,
   "metadata": {
    "tags": [],
    "vscode": {
     "end_execution_time": "2020-10-12T04:15:51.006Z",
     "start_execution_time": "2020-10-12T04:15:50.993Z"
    }
   },
   "outputs": [
    {
     "name": "stdout",
     "output_type": "stream",
     "text": [
      "0.194105863571167\n"
     ]
    }
   ],
   "source": [
    "import time\n",
    "elapsed_time = time.time() - start_time\n",
    "print(elapsed_time)"
   ]
  },
  {
   "cell_type": "code",
   "execution_count": 83,
   "metadata": {
    "tags": [],
    "vscode": {
     "end_execution_time": "2020-10-12T04:15:51.024Z",
     "start_execution_time": "2020-10-12T04:15:51.012Z"
    }
   },
   "outputs": [
    {
     "name": "stdout",
     "output_type": "stream",
     "text": [
      "0.19594788551330566\n"
     ]
    }
   ],
   "source": [
    "import time\n",
    "elapsed_time = time.time() - start_time\n",
    "print(elapsed_time)"
   ]
  },
  {
   "cell_type": "code",
   "execution_count": 84,
   "metadata": {
    "tags": [],
    "vscode": {
     "end_execution_time": "2020-10-12T04:15:51.046Z",
     "start_execution_time": "2020-10-12T04:15:51.030Z"
    }
   },
   "outputs": [
    {
     "name": "stdout",
     "output_type": "stream",
     "text": [
      "0.19788694381713867\n"
     ]
    }
   ],
   "source": [
    "import time\n",
    "elapsed_time = time.time() - start_time\n",
    "print(elapsed_time)"
   ]
  },
  {
   "cell_type": "code",
   "execution_count": 85,
   "metadata": {
    "tags": [],
    "vscode": {
     "end_execution_time": "2020-10-12T04:15:51.066Z",
     "start_execution_time": "2020-10-12T04:15:51.056Z"
    }
   },
   "outputs": [
    {
     "name": "stdout",
     "output_type": "stream",
     "text": [
      "0.19978070259094238\n"
     ]
    }
   ],
   "source": [
    "import time\n",
    "elapsed_time = time.time() - start_time\n",
    "print(elapsed_time)"
   ]
  },
  {
   "cell_type": "code",
   "execution_count": 86,
   "metadata": {
    "tags": [],
    "vscode": {
     "end_execution_time": "2020-10-12T04:15:51.084Z",
     "start_execution_time": "2020-10-12T04:15:51.071Z"
    }
   },
   "outputs": [
    {
     "name": "stdout",
     "output_type": "stream",
     "text": [
      "0.20165777206420898\n"
     ]
    }
   ],
   "source": [
    "import time\n",
    "elapsed_time = time.time() - start_time\n",
    "print(elapsed_time)"
   ]
  },
  {
   "cell_type": "code",
   "execution_count": 87,
   "metadata": {
    "tags": [],
    "vscode": {
     "end_execution_time": "2020-10-12T04:15:51.103Z",
     "start_execution_time": "2020-10-12T04:15:51.093Z"
    }
   },
   "outputs": [
    {
     "name": "stdout",
     "output_type": "stream",
     "text": [
      "0.20363903045654297\n"
     ]
    }
   ],
   "source": [
    "import time\n",
    "elapsed_time = time.time() - start_time\n",
    "print(elapsed_time)"
   ]
  },
  {
   "cell_type": "code",
   "execution_count": 88,
   "metadata": {
    "tags": [],
    "vscode": {
     "end_execution_time": "2020-10-12T04:15:51.127Z",
     "start_execution_time": "2020-10-12T04:15:51.113Z"
    }
   },
   "outputs": [
    {
     "name": "stdout",
     "output_type": "stream",
     "text": [
      "0.2056257724761963\n"
     ]
    }
   ],
   "source": [
    "import time\n",
    "elapsed_time = time.time() - start_time\n",
    "print(elapsed_time)"
   ]
  },
  {
   "cell_type": "code",
   "execution_count": 89,
   "metadata": {
    "tags": [],
    "vscode": {
     "end_execution_time": "2020-10-12T04:15:51.147Z",
     "start_execution_time": "2020-10-12T04:15:51.134Z"
    }
   },
   "outputs": [
    {
     "name": "stdout",
     "output_type": "stream",
     "text": [
      "0.20762181282043457\n"
     ]
    }
   ],
   "source": [
    "import time\n",
    "elapsed_time = time.time() - start_time\n",
    "print(elapsed_time)"
   ]
  },
  {
   "cell_type": "code",
   "execution_count": 90,
   "metadata": {
    "tags": [],
    "vscode": {
     "end_execution_time": "2020-10-12T04:15:51.167Z",
     "start_execution_time": "2020-10-12T04:15:51.153Z"
    }
   },
   "outputs": [
    {
     "name": "stdout",
     "output_type": "stream",
     "text": [
      "0.20954275131225586\n"
     ]
    }
   ],
   "source": [
    "import time\n",
    "elapsed_time = time.time() - start_time\n",
    "print(elapsed_time)"
   ]
  },
  {
   "cell_type": "code",
   "execution_count": 91,
   "metadata": {
    "tags": [],
    "vscode": {
     "end_execution_time": "2020-10-12T04:15:51.182Z",
     "start_execution_time": "2020-10-12T04:15:51.172Z"
    }
   },
   "outputs": [
    {
     "name": "stdout",
     "output_type": "stream",
     "text": [
      "0.21156573295593262\n"
     ]
    }
   ],
   "source": [
    "import time\n",
    "elapsed_time = time.time() - start_time\n",
    "print(elapsed_time)"
   ]
  },
  {
   "cell_type": "code",
   "execution_count": 92,
   "metadata": {
    "tags": [],
    "vscode": {
     "end_execution_time": "2020-10-12T04:15:51.201Z",
     "start_execution_time": "2020-10-12T04:15:51.191Z"
    }
   },
   "outputs": [
    {
     "name": "stdout",
     "output_type": "stream",
     "text": [
      "0.21381688117980957\n"
     ]
    }
   ],
   "source": [
    "import time\n",
    "elapsed_time = time.time() - start_time\n",
    "print(elapsed_time)"
   ]
  },
  {
   "cell_type": "code",
   "execution_count": 93,
   "metadata": {
    "tags": [],
    "vscode": {
     "end_execution_time": "2020-10-12T04:15:51.219Z",
     "start_execution_time": "2020-10-12T04:15:51.209Z"
    }
   },
   "outputs": [
    {
     "name": "stdout",
     "output_type": "stream",
     "text": [
      "0.21567797660827637\n"
     ]
    }
   ],
   "source": [
    "import time\n",
    "elapsed_time = time.time() - start_time\n",
    "print(elapsed_time)"
   ]
  },
  {
   "cell_type": "code",
   "execution_count": 94,
   "metadata": {
    "tags": [],
    "vscode": {
     "end_execution_time": "2020-10-12T04:15:51.623Z",
     "start_execution_time": "2020-10-12T04:15:51.229Z"
    }
   },
   "outputs": [
    {
     "name": "stdout",
     "output_type": "stream",
     "text": [
      "0.21763992309570312\n"
     ]
    }
   ],
   "source": [
    "import time\n",
    "elapsed_time = time.time() - start_time\n",
    "print(elapsed_time)"
   ]
  },
  {
   "cell_type": "code",
   "execution_count": 95,
   "metadata": {
    "tags": [],
    "vscode": {
     "end_execution_time": "2020-10-12T04:15:51.637Z",
     "start_execution_time": "2020-10-12T04:15:51.628Z"
    }
   },
   "outputs": [
    {
     "name": "stdout",
     "output_type": "stream",
     "text": [
      "0.21955466270446777\n"
     ]
    }
   ],
   "source": [
    "import time\n",
    "elapsed_time = time.time() - start_time\n",
    "print(elapsed_time)"
   ]
  },
  {
   "cell_type": "code",
   "execution_count": 96,
   "metadata": {
    "tags": [],
    "vscode": {
     "end_execution_time": "2020-10-12T04:15:51.651Z",
     "start_execution_time": "2020-10-12T04:15:51.642Z"
    }
   },
   "outputs": [
    {
     "name": "stdout",
     "output_type": "stream",
     "text": [
      "0.22157883644104004\n"
     ]
    }
   ],
   "source": [
    "import time\n",
    "elapsed_time = time.time() - start_time\n",
    "print(elapsed_time)"
   ]
  },
  {
   "cell_type": "code",
   "execution_count": 97,
   "metadata": {
    "tags": [],
    "vscode": {
     "end_execution_time": "2020-10-12T04:15:51.664Z",
     "start_execution_time": "2020-10-12T04:15:51.656Z"
    }
   },
   "outputs": [
    {
     "name": "stdout",
     "output_type": "stream",
     "text": [
      "0.2234668731689453\n"
     ]
    }
   ],
   "source": [
    "import time\n",
    "elapsed_time = time.time() - start_time\n",
    "print(elapsed_time)"
   ]
  },
  {
   "cell_type": "code",
   "execution_count": 98,
   "metadata": {
    "tags": [],
    "vscode": {
     "end_execution_time": "2020-10-12T04:15:51.682Z",
     "start_execution_time": "2020-10-12T04:15:51.669Z"
    }
   },
   "outputs": [
    {
     "name": "stdout",
     "output_type": "stream",
     "text": [
      "0.22543096542358398\n"
     ]
    }
   ],
   "source": [
    "import time\n",
    "elapsed_time = time.time() - start_time\n",
    "print(elapsed_time)"
   ]
  },
  {
   "cell_type": "code",
   "execution_count": 99,
   "metadata": {
    "tags": [],
    "vscode": {
     "end_execution_time": "2020-10-12T04:15:51.696Z",
     "start_execution_time": "2020-10-12T04:15:51.687Z"
    }
   },
   "outputs": [
    {
     "name": "stdout",
     "output_type": "stream",
     "text": [
      "0.22724580764770508\n"
     ]
    }
   ],
   "source": [
    "import time\n",
    "elapsed_time = time.time() - start_time\n",
    "print(elapsed_time)"
   ]
  },
  {
   "cell_type": "code",
   "execution_count": 100,
   "metadata": {
    "tags": [],
    "vscode": {
     "end_execution_time": "2020-10-12T04:15:51.715Z",
     "start_execution_time": "2020-10-12T04:15:51.706Z"
    }
   },
   "outputs": [
    {
     "name": "stdout",
     "output_type": "stream",
     "text": [
      "0.22942280769348145\n"
     ]
    }
   ],
   "source": [
    "import time\n",
    "elapsed_time = time.time() - start_time\n",
    "print(elapsed_time)"
   ]
  },
  {
   "cell_type": "code",
   "execution_count": 101,
   "metadata": {
    "tags": [],
    "vscode": {
     "end_execution_time": "2020-10-12T04:15:51.743Z",
     "start_execution_time": "2020-10-12T04:15:51.725Z"
    }
   },
   "outputs": [
    {
     "name": "stdout",
     "output_type": "stream",
     "text": [
      "0.23154687881469727\n"
     ]
    }
   ],
   "source": [
    "import time\n",
    "elapsed_time = time.time() - start_time\n",
    "print(elapsed_time)"
   ]
  },
  {
   "cell_type": "code",
   "execution_count": 102,
   "metadata": {
    "tags": [],
    "vscode": {
     "end_execution_time": "2020-10-12T04:15:51.761Z",
     "start_execution_time": "2020-10-12T04:15:51.752Z"
    }
   },
   "outputs": [
    {
     "name": "stdout",
     "output_type": "stream",
     "text": [
      "0.23389482498168945\n"
     ]
    }
   ],
   "source": [
    "import time\n",
    "elapsed_time = time.time() - start_time\n",
    "print(elapsed_time)"
   ]
  },
  {
   "cell_type": "code",
   "execution_count": 103,
   "metadata": {
    "tags": [],
    "vscode": {
     "end_execution_time": "2020-10-12T04:15:51.781Z",
     "start_execution_time": "2020-10-12T04:15:51.772Z"
    }
   },
   "outputs": [
    {
     "name": "stdout",
     "output_type": "stream",
     "text": [
      "0.23600482940673828\n"
     ]
    }
   ],
   "source": [
    "import time\n",
    "elapsed_time = time.time() - start_time\n",
    "print(elapsed_time)"
   ]
  },
  {
   "cell_type": "code",
   "execution_count": 104,
   "metadata": {
    "tags": [],
    "vscode": {
     "end_execution_time": "2020-10-12T04:15:51.796Z",
     "start_execution_time": "2020-10-12T04:15:51.787Z"
    }
   },
   "outputs": [
    {
     "name": "stdout",
     "output_type": "stream",
     "text": [
      "0.23790383338928223\n"
     ]
    }
   ],
   "source": [
    "import time\n",
    "elapsed_time = time.time() - start_time\n",
    "print(elapsed_time)"
   ]
  },
  {
   "cell_type": "code",
   "execution_count": 105,
   "metadata": {
    "tags": [],
    "vscode": {
     "end_execution_time": "2020-10-12T04:15:51.813Z",
     "start_execution_time": "2020-10-12T04:15:51.805Z"
    }
   },
   "outputs": [
    {
     "name": "stdout",
     "output_type": "stream",
     "text": [
      "0.23992586135864258\n"
     ]
    }
   ],
   "source": [
    "import time\n",
    "elapsed_time = time.time() - start_time\n",
    "print(elapsed_time)"
   ]
  },
  {
   "cell_type": "code",
   "execution_count": 106,
   "metadata": {
    "tags": [],
    "vscode": {
     "end_execution_time": "2020-10-12T04:15:51.828Z",
     "start_execution_time": "2020-10-12T04:15:51.819Z"
    }
   },
   "outputs": [
    {
     "name": "stdout",
     "output_type": "stream",
     "text": [
      "0.24208998680114746\n"
     ]
    }
   ],
   "source": [
    "import time\n",
    "elapsed_time = time.time() - start_time\n",
    "print(elapsed_time)"
   ]
  },
  {
   "cell_type": "code",
   "execution_count": 107,
   "metadata": {
    "tags": [],
    "vscode": {
     "end_execution_time": "2020-10-12T04:15:51.842Z",
     "start_execution_time": "2020-10-12T04:15:51.833Z"
    }
   },
   "outputs": [
    {
     "name": "stdout",
     "output_type": "stream",
     "text": [
      "0.24424982070922852\n"
     ]
    }
   ],
   "source": [
    "import time\n",
    "elapsed_time = time.time() - start_time\n",
    "print(elapsed_time)"
   ]
  },
  {
   "cell_type": "code",
   "execution_count": 108,
   "metadata": {
    "tags": [],
    "vscode": {
     "end_execution_time": "2020-10-12T04:15:51.860Z",
     "start_execution_time": "2020-10-12T04:15:51.849Z"
    }
   },
   "outputs": [
    {
     "name": "stdout",
     "output_type": "stream",
     "text": [
      "0.24634385108947754\n"
     ]
    }
   ],
   "source": [
    "import time\n",
    "elapsed_time = time.time() - start_time\n",
    "print(elapsed_time)"
   ]
  },
  {
   "cell_type": "code",
   "execution_count": 109,
   "metadata": {
    "tags": [],
    "vscode": {
     "end_execution_time": "2020-10-12T04:15:51.875Z",
     "start_execution_time": "2020-10-12T04:15:51.866Z"
    }
   },
   "outputs": [
    {
     "name": "stdout",
     "output_type": "stream",
     "text": [
      "0.24836397171020508\n"
     ]
    }
   ],
   "source": [
    "import time\n",
    "elapsed_time = time.time() - start_time\n",
    "print(elapsed_time)"
   ]
  },
  {
   "cell_type": "code",
   "execution_count": 110,
   "metadata": {
    "tags": [],
    "vscode": {
     "end_execution_time": "2020-10-12T04:15:51.898Z",
     "start_execution_time": "2020-10-12T04:15:51.889Z"
    }
   },
   "outputs": [
    {
     "name": "stdout",
     "output_type": "stream",
     "text": [
      "0.25027894973754883\n"
     ]
    }
   ],
   "source": [
    "import time\n",
    "elapsed_time = time.time() - start_time\n",
    "print(elapsed_time)"
   ]
  },
  {
   "cell_type": "code",
   "execution_count": 111,
   "metadata": {
    "tags": [],
    "vscode": {
     "end_execution_time": "2020-10-12T04:15:51.916Z",
     "start_execution_time": "2020-10-12T04:15:51.907Z"
    }
   },
   "outputs": [
    {
     "name": "stdout",
     "output_type": "stream",
     "text": [
      "0.25225090980529785\n"
     ]
    }
   ],
   "source": [
    "import time\n",
    "elapsed_time = time.time() - start_time\n",
    "print(elapsed_time)"
   ]
  },
  {
   "cell_type": "code",
   "execution_count": 112,
   "metadata": {
    "tags": [],
    "vscode": {
     "end_execution_time": "2020-10-12T04:15:51.933Z",
     "start_execution_time": "2020-10-12T04:15:51.924Z"
    }
   },
   "outputs": [
    {
     "name": "stdout",
     "output_type": "stream",
     "text": [
      "0.25443100929260254\n"
     ]
    }
   ],
   "source": [
    "import time\n",
    "elapsed_time = time.time() - start_time\n",
    "print(elapsed_time)"
   ]
  },
  {
   "cell_type": "code",
   "execution_count": 113,
   "metadata": {
    "tags": [],
    "vscode": {
     "end_execution_time": "2020-10-12T04:15:51.952Z",
     "start_execution_time": "2020-10-12T04:15:51.943Z"
    }
   },
   "outputs": [
    {
     "name": "stdout",
     "output_type": "stream",
     "text": [
      "0.25695180892944336\n"
     ]
    }
   ],
   "source": [
    "import time\n",
    "elapsed_time = time.time() - start_time\n",
    "print(elapsed_time)"
   ]
  },
  {
   "cell_type": "code",
   "execution_count": 114,
   "metadata": {
    "tags": [],
    "vscode": {
     "end_execution_time": "2020-10-12T04:15:51.967Z",
     "start_execution_time": "2020-10-12T04:15:51.958Z"
    }
   },
   "outputs": [
    {
     "name": "stdout",
     "output_type": "stream",
     "text": [
      "0.2627909183502197\n"
     ]
    }
   ],
   "source": [
    "import time\n",
    "elapsed_time = time.time() - start_time\n",
    "print(elapsed_time)"
   ]
  },
  {
   "cell_type": "code",
   "execution_count": 115,
   "metadata": {
    "tags": [],
    "vscode": {
     "end_execution_time": "2020-10-12T04:15:51.979Z",
     "start_execution_time": "2020-10-12T04:15:51.971Z"
    }
   },
   "outputs": [
    {
     "name": "stdout",
     "output_type": "stream",
     "text": [
      "0.2668757438659668\n"
     ]
    }
   ],
   "source": [
    "import time\n",
    "elapsed_time = time.time() - start_time\n",
    "print(elapsed_time)"
   ]
  },
  {
   "cell_type": "code",
   "execution_count": 116,
   "metadata": {
    "tags": [],
    "vscode": {
     "end_execution_time": "2020-10-12T04:15:52.005Z",
     "start_execution_time": "2020-10-12T04:15:51.988Z"
    }
   },
   "outputs": [
    {
     "name": "stdout",
     "output_type": "stream",
     "text": [
      "0.2702658176422119\n"
     ]
    }
   ],
   "source": [
    "import time\n",
    "elapsed_time = time.time() - start_time\n",
    "print(elapsed_time)"
   ]
  },
  {
   "cell_type": "code",
   "execution_count": 117,
   "metadata": {
    "tags": [],
    "vscode": {
     "end_execution_time": "2020-10-12T04:15:52.023Z",
     "start_execution_time": "2020-10-12T04:15:52.010Z"
    }
   },
   "outputs": [
    {
     "name": "stdout",
     "output_type": "stream",
     "text": [
      "0.2736508846282959\n"
     ]
    }
   ],
   "source": [
    "import time\n",
    "elapsed_time = time.time() - start_time\n",
    "print(elapsed_time)"
   ]
  },
  {
   "cell_type": "code",
   "execution_count": 118,
   "metadata": {
    "tags": [],
    "vscode": {
     "end_execution_time": "2020-10-12T04:15:52.041Z",
     "start_execution_time": "2020-10-12T04:15:52.028Z"
    }
   },
   "outputs": [
    {
     "name": "stdout",
     "output_type": "stream",
     "text": [
      "0.27671384811401367\n"
     ]
    }
   ],
   "source": [
    "import time\n",
    "elapsed_time = time.time() - start_time\n",
    "print(elapsed_time)"
   ]
  },
  {
   "cell_type": "code",
   "execution_count": 119,
   "metadata": {
    "tags": [],
    "vscode": {
     "end_execution_time": "2020-10-12T04:15:52.055Z",
     "start_execution_time": "2020-10-12T04:15:52.046Z"
    }
   },
   "outputs": [
    {
     "name": "stdout",
     "output_type": "stream",
     "text": [
      "0.27956676483154297\n"
     ]
    }
   ],
   "source": [
    "import time\n",
    "elapsed_time = time.time() - start_time\n",
    "print(elapsed_time)"
   ]
  },
  {
   "cell_type": "code",
   "execution_count": 120,
   "metadata": {
    "tags": [],
    "vscode": {
     "end_execution_time": "2020-10-12T04:15:52.075Z",
     "start_execution_time": "2020-10-12T04:15:52.065Z"
    }
   },
   "outputs": [
    {
     "name": "stdout",
     "output_type": "stream",
     "text": [
      "0.28302693367004395\n"
     ]
    }
   ],
   "source": [
    "import time\n",
    "elapsed_time = time.time() - start_time\n",
    "print(elapsed_time)"
   ]
  },
  {
   "cell_type": "code",
   "execution_count": 121,
   "metadata": {
    "tags": [],
    "vscode": {
     "end_execution_time": "2020-10-12T04:15:52.095Z",
     "start_execution_time": "2020-10-12T04:15:52.086Z"
    }
   },
   "outputs": [
    {
     "name": "stdout",
     "output_type": "stream",
     "text": [
      "0.2860088348388672\n"
     ]
    }
   ],
   "source": [
    "import time\n",
    "elapsed_time = time.time() - start_time\n",
    "print(elapsed_time)"
   ]
  },
  {
   "cell_type": "code",
   "execution_count": 122,
   "metadata": {
    "tags": [],
    "vscode": {
     "end_execution_time": "2020-10-12T04:15:52.108Z",
     "start_execution_time": "2020-10-12T04:15:52.100Z"
    }
   },
   "outputs": [
    {
     "name": "stdout",
     "output_type": "stream",
     "text": [
      "0.2889699935913086\n"
     ]
    }
   ],
   "source": [
    "import time\n",
    "elapsed_time = time.time() - start_time\n",
    "print(elapsed_time)"
   ]
  },
  {
   "cell_type": "code",
   "execution_count": 123,
   "metadata": {
    "tags": [],
    "vscode": {
     "end_execution_time": "2020-10-12T04:15:52.126Z",
     "start_execution_time": "2020-10-12T04:15:52.117Z"
    }
   },
   "outputs": [
    {
     "name": "stdout",
     "output_type": "stream",
     "text": [
      "0.2916710376739502\n"
     ]
    }
   ],
   "source": [
    "import time\n",
    "elapsed_time = time.time() - start_time\n",
    "print(elapsed_time)"
   ]
  },
  {
   "cell_type": "code",
   "execution_count": 124,
   "metadata": {
    "tags": [],
    "vscode": {
     "end_execution_time": "2020-10-12T04:15:52.141Z",
     "start_execution_time": "2020-10-12T04:15:52.132Z"
    }
   },
   "outputs": [
    {
     "name": "stdout",
     "output_type": "stream",
     "text": [
      "0.2948758602142334\n"
     ]
    }
   ],
   "source": [
    "import time\n",
    "elapsed_time = time.time() - start_time\n",
    "print(elapsed_time)"
   ]
  },
  {
   "cell_type": "code",
   "execution_count": 125,
   "metadata": {
    "tags": [],
    "vscode": {
     "end_execution_time": "2020-10-12T04:15:52.155Z",
     "start_execution_time": "2020-10-12T04:15:52.146Z"
    }
   },
   "outputs": [
    {
     "name": "stdout",
     "output_type": "stream",
     "text": [
      "0.3033888339996338\n"
     ]
    }
   ],
   "source": [
    "import time\n",
    "elapsed_time = time.time() - start_time\n",
    "print(elapsed_time)"
   ]
  },
  {
   "cell_type": "code",
   "execution_count": 126,
   "metadata": {
    "tags": [],
    "vscode": {
     "end_execution_time": "2020-10-12T04:15:52.173Z",
     "start_execution_time": "2020-10-12T04:15:52.161Z"
    }
   },
   "outputs": [
    {
     "name": "stdout",
     "output_type": "stream",
     "text": [
      "0.30823588371276855\n"
     ]
    }
   ],
   "source": [
    "import time\n",
    "elapsed_time = time.time() - start_time\n",
    "print(elapsed_time)"
   ]
  },
  {
   "cell_type": "code",
   "execution_count": 127,
   "metadata": {
    "tags": [],
    "vscode": {
     "end_execution_time": "2020-10-12T04:15:52.189Z",
     "start_execution_time": "2020-10-12T04:15:52.178Z"
    }
   },
   "outputs": [
    {
     "name": "stdout",
     "output_type": "stream",
     "text": [
      "0.3113868236541748\n"
     ]
    }
   ],
   "source": [
    "import time\n",
    "elapsed_time = time.time() - start_time\n",
    "print(elapsed_time)"
   ]
  },
  {
   "cell_type": "code",
   "execution_count": 128,
   "metadata": {
    "tags": [],
    "vscode": {
     "end_execution_time": "2020-10-12T04:15:52.207Z",
     "start_execution_time": "2020-10-12T04:15:52.195Z"
    }
   },
   "outputs": [
    {
     "name": "stdout",
     "output_type": "stream",
     "text": [
      "0.3143348693847656\n"
     ]
    }
   ],
   "source": [
    "import time\n",
    "elapsed_time = time.time() - start_time\n",
    "print(elapsed_time)"
   ]
  },
  {
   "cell_type": "code",
   "execution_count": 129,
   "metadata": {
    "tags": [],
    "vscode": {
     "end_execution_time": "2020-10-12T04:15:52.222Z",
     "start_execution_time": "2020-10-12T04:15:52.211Z"
    }
   },
   "outputs": [
    {
     "name": "stdout",
     "output_type": "stream",
     "text": [
      "0.31774091720581055\n"
     ]
    }
   ],
   "source": [
    "import time\n",
    "elapsed_time = time.time() - start_time\n",
    "print(elapsed_time)"
   ]
  },
  {
   "cell_type": "code",
   "execution_count": 130,
   "metadata": {
    "tags": [],
    "vscode": {
     "end_execution_time": "2020-10-12T04:15:52.239Z",
     "start_execution_time": "2020-10-12T04:15:52.228Z"
    }
   },
   "outputs": [
    {
     "name": "stdout",
     "output_type": "stream",
     "text": [
      "0.32086992263793945\n"
     ]
    }
   ],
   "source": [
    "import time\n",
    "elapsed_time = time.time() - start_time\n",
    "print(elapsed_time)"
   ]
  },
  {
   "cell_type": "code",
   "execution_count": 131,
   "metadata": {
    "tags": [],
    "vscode": {
     "end_execution_time": "2020-10-12T04:15:52.263Z",
     "start_execution_time": "2020-10-12T04:15:52.253Z"
    }
   },
   "outputs": [
    {
     "name": "stdout",
     "output_type": "stream",
     "text": [
      "0.3238227367401123\n"
     ]
    }
   ],
   "source": [
    "import time\n",
    "elapsed_time = time.time() - start_time\n",
    "print(elapsed_time)"
   ]
  },
  {
   "cell_type": "code",
   "execution_count": 132,
   "metadata": {
    "tags": [],
    "vscode": {
     "end_execution_time": "2020-10-12T04:15:52.282Z",
     "start_execution_time": "2020-10-12T04:15:52.268Z"
    }
   },
   "outputs": [
    {
     "name": "stdout",
     "output_type": "stream",
     "text": [
      "0.32724571228027344\n"
     ]
    }
   ],
   "source": [
    "import time\n",
    "elapsed_time = time.time() - start_time\n",
    "print(elapsed_time)"
   ]
  },
  {
   "cell_type": "code",
   "execution_count": 133,
   "metadata": {
    "tags": [],
    "vscode": {
     "end_execution_time": "2020-10-12T04:15:52.302Z",
     "start_execution_time": "2020-10-12T04:15:52.287Z"
    }
   },
   "outputs": [
    {
     "name": "stdout",
     "output_type": "stream",
     "text": [
      "0.3299729824066162\n"
     ]
    }
   ],
   "source": [
    "import time\n",
    "elapsed_time = time.time() - start_time\n",
    "print(elapsed_time)"
   ]
  },
  {
   "cell_type": "code",
   "execution_count": 134,
   "metadata": {
    "tags": [],
    "vscode": {
     "end_execution_time": "2020-10-12T04:15:52.316Z",
     "start_execution_time": "2020-10-12T04:15:52.307Z"
    }
   },
   "outputs": [
    {
     "name": "stdout",
     "output_type": "stream",
     "text": [
      "0.3324909210205078\n"
     ]
    }
   ],
   "source": [
    "import time\n",
    "elapsed_time = time.time() - start_time\n",
    "print(elapsed_time)"
   ]
  },
  {
   "cell_type": "code",
   "execution_count": 135,
   "metadata": {
    "tags": [],
    "vscode": {
     "end_execution_time": "2020-10-12T04:15:52.333Z",
     "start_execution_time": "2020-10-12T04:15:52.324Z"
    }
   },
   "outputs": [
    {
     "name": "stdout",
     "output_type": "stream",
     "text": [
      "0.33504581451416016\n"
     ]
    }
   ],
   "source": [
    "import time\n",
    "elapsed_time = time.time() - start_time\n",
    "print(elapsed_time)"
   ]
  },
  {
   "cell_type": "code",
   "execution_count": 136,
   "metadata": {
    "tags": [],
    "vscode": {
     "end_execution_time": "2020-10-12T04:15:52.351Z",
     "start_execution_time": "2020-10-12T04:15:52.342Z"
    }
   },
   "outputs": [
    {
     "name": "stdout",
     "output_type": "stream",
     "text": [
      "0.3389089107513428\n"
     ]
    }
   ],
   "source": [
    "import time\n",
    "elapsed_time = time.time() - start_time\n",
    "print(elapsed_time)"
   ]
  },
  {
   "cell_type": "code",
   "execution_count": 137,
   "metadata": {
    "tags": [],
    "vscode": {
     "end_execution_time": "2020-10-12T04:15:52.370Z",
     "start_execution_time": "2020-10-12T04:15:52.361Z"
    }
   },
   "outputs": [
    {
     "name": "stdout",
     "output_type": "stream",
     "text": [
      "0.34767889976501465\n"
     ]
    }
   ],
   "source": [
    "import time\n",
    "elapsed_time = time.time() - start_time\n",
    "print(elapsed_time)"
   ]
  },
  {
   "cell_type": "code",
   "execution_count": 138,
   "metadata": {
    "tags": [],
    "vscode": {
     "end_execution_time": "2020-10-12T04:15:52.389Z",
     "start_execution_time": "2020-10-12T04:15:52.380Z"
    }
   },
   "outputs": [
    {
     "name": "stdout",
     "output_type": "stream",
     "text": [
      "0.35290980339050293\n"
     ]
    }
   ],
   "source": [
    "import time\n",
    "elapsed_time = time.time() - start_time\n",
    "print(elapsed_time)"
   ]
  },
  {
   "cell_type": "code",
   "execution_count": 139,
   "metadata": {
    "tags": [],
    "vscode": {
     "end_execution_time": "2020-10-12T04:15:52.408Z",
     "start_execution_time": "2020-10-12T04:15:52.399Z"
    }
   },
   "outputs": [
    {
     "name": "stdout",
     "output_type": "stream",
     "text": [
      "0.3551197052001953\n"
     ]
    }
   ],
   "source": [
    "import time\n",
    "elapsed_time = time.time() - start_time\n",
    "print(elapsed_time)"
   ]
  },
  {
   "cell_type": "code",
   "execution_count": 140,
   "metadata": {
    "tags": [],
    "vscode": {
     "end_execution_time": "2020-10-12T04:15:52.423Z",
     "start_execution_time": "2020-10-12T04:15:52.414Z"
    }
   },
   "outputs": [
    {
     "name": "stdout",
     "output_type": "stream",
     "text": [
      "0.35709691047668457\n"
     ]
    }
   ],
   "source": [
    "import time\n",
    "elapsed_time = time.time() - start_time\n",
    "print(elapsed_time)"
   ]
  },
  {
   "cell_type": "code",
   "execution_count": 141,
   "metadata": {
    "tags": [],
    "vscode": {
     "end_execution_time": "2020-10-12T04:15:52.438Z",
     "start_execution_time": "2020-10-12T04:15:52.427Z"
    }
   },
   "outputs": [
    {
     "name": "stdout",
     "output_type": "stream",
     "text": [
      "0.3597707748413086\n"
     ]
    }
   ],
   "source": [
    "import time\n",
    "elapsed_time = time.time() - start_time\n",
    "print(elapsed_time)"
   ]
  },
  {
   "cell_type": "code",
   "execution_count": 142,
   "metadata": {
    "tags": [],
    "vscode": {
     "end_execution_time": "2020-10-12T04:15:52.455Z",
     "start_execution_time": "2020-10-12T04:15:52.444Z"
    }
   },
   "outputs": [
    {
     "name": "stdout",
     "output_type": "stream",
     "text": [
      "0.36200380325317383\n"
     ]
    }
   ],
   "source": [
    "import time\n",
    "elapsed_time = time.time() - start_time\n",
    "print(elapsed_time)"
   ]
  },
  {
   "cell_type": "code",
   "execution_count": 143,
   "metadata": {
    "tags": [],
    "vscode": {
     "end_execution_time": "2020-10-12T04:15:52.472Z",
     "start_execution_time": "2020-10-12T04:15:52.461Z"
    }
   },
   "outputs": [
    {
     "name": "stdout",
     "output_type": "stream",
     "text": [
      "0.36444592475891113\n"
     ]
    }
   ],
   "source": [
    "import time\n",
    "elapsed_time = time.time() - start_time\n",
    "print(elapsed_time)"
   ]
  },
  {
   "cell_type": "code",
   "execution_count": 144,
   "metadata": {
    "tags": [],
    "vscode": {
     "end_execution_time": "2020-10-12T04:15:52.488Z",
     "start_execution_time": "2020-10-12T04:15:52.477Z"
    }
   },
   "outputs": [
    {
     "name": "stdout",
     "output_type": "stream",
     "text": [
      "0.366879940032959\n"
     ]
    }
   ],
   "source": [
    "import time\n",
    "elapsed_time = time.time() - start_time\n",
    "print(elapsed_time)"
   ]
  },
  {
   "cell_type": "code",
   "execution_count": 145,
   "metadata": {
    "tags": [],
    "vscode": {
     "end_execution_time": "2020-10-12T04:15:52.505Z",
     "start_execution_time": "2020-10-12T04:15:52.494Z"
    }
   },
   "outputs": [
    {
     "name": "stdout",
     "output_type": "stream",
     "text": [
      "0.368877649307251\n"
     ]
    }
   ],
   "source": [
    "import time\n",
    "elapsed_time = time.time() - start_time\n",
    "print(elapsed_time)"
   ]
  },
  {
   "cell_type": "code",
   "execution_count": 146,
   "metadata": {
    "tags": [],
    "vscode": {
     "end_execution_time": "2020-10-12T04:15:52.529Z",
     "start_execution_time": "2020-10-12T04:15:52.519Z"
    }
   },
   "outputs": [
    {
     "name": "stdout",
     "output_type": "stream",
     "text": [
      "0.37202000617980957\n"
     ]
    }
   ],
   "source": [
    "import time\n",
    "elapsed_time = time.time() - start_time\n",
    "print(elapsed_time)"
   ]
  },
  {
   "cell_type": "code",
   "execution_count": 147,
   "metadata": {
    "tags": [],
    "vscode": {
     "end_execution_time": "2020-10-12T04:15:52.548Z",
     "start_execution_time": "2020-10-12T04:15:52.538Z"
    }
   },
   "outputs": [
    {
     "name": "stdout",
     "output_type": "stream",
     "text": [
      "0.37456798553466797\n"
     ]
    }
   ],
   "source": [
    "import time\n",
    "elapsed_time = time.time() - start_time\n",
    "print(elapsed_time)"
   ]
  },
  {
   "cell_type": "code",
   "execution_count": 148,
   "metadata": {
    "tags": [],
    "vscode": {
     "end_execution_time": "2020-10-12T04:15:52.571Z",
     "start_execution_time": "2020-10-12T04:15:52.557Z"
    }
   },
   "outputs": [
    {
     "name": "stdout",
     "output_type": "stream",
     "text": [
      "0.37670087814331055\n"
     ]
    }
   ],
   "source": [
    "import time\n",
    "elapsed_time = time.time() - start_time\n",
    "print(elapsed_time)"
   ]
  },
  {
   "cell_type": "code",
   "execution_count": 149,
   "metadata": {
    "tags": [],
    "vscode": {
     "end_execution_time": "2020-10-12T04:15:52.585Z",
     "start_execution_time": "2020-10-12T04:15:52.576Z"
    }
   },
   "outputs": [
    {
     "name": "stdout",
     "output_type": "stream",
     "text": [
      "0.37888193130493164\n"
     ]
    }
   ],
   "source": [
    "import time\n",
    "elapsed_time = time.time() - start_time\n",
    "print(elapsed_time)"
   ]
  },
  {
   "cell_type": "code",
   "execution_count": 150,
   "metadata": {
    "tags": [],
    "vscode": {
     "end_execution_time": "2020-10-12T04:15:52.599Z",
     "start_execution_time": "2020-10-12T04:15:52.591Z"
    }
   },
   "outputs": [
    {
     "name": "stdout",
     "output_type": "stream",
     "text": [
      "0.3808739185333252\n"
     ]
    }
   ],
   "source": [
    "import time\n",
    "elapsed_time = time.time() - start_time\n",
    "print(elapsed_time)"
   ]
  },
  {
   "cell_type": "code",
   "execution_count": 151,
   "metadata": {
    "tags": [],
    "vscode": {
     "end_execution_time": "2020-10-12T04:15:52.613Z",
     "start_execution_time": "2020-10-12T04:15:52.604Z"
    }
   },
   "outputs": [
    {
     "name": "stdout",
     "output_type": "stream",
     "text": [
      "0.38307976722717285\n"
     ]
    }
   ],
   "source": [
    "import time\n",
    "elapsed_time = time.time() - start_time\n",
    "print(elapsed_time)"
   ]
  },
  {
   "cell_type": "code",
   "execution_count": 152,
   "metadata": {
    "tags": [],
    "vscode": {
     "end_execution_time": "2020-10-12T04:15:52.631Z",
     "start_execution_time": "2020-10-12T04:15:52.622Z"
    }
   },
   "outputs": [
    {
     "name": "stdout",
     "output_type": "stream",
     "text": [
      "0.38498568534851074\n"
     ]
    }
   ],
   "source": [
    "import time\n",
    "elapsed_time = time.time() - start_time\n",
    "print(elapsed_time)"
   ]
  },
  {
   "cell_type": "code",
   "execution_count": 153,
   "metadata": {
    "tags": [],
    "vscode": {
     "end_execution_time": "2020-10-12T04:15:52.647Z",
     "start_execution_time": "2020-10-12T04:15:52.637Z"
    }
   },
   "outputs": [
    {
     "name": "stdout",
     "output_type": "stream",
     "text": [
      "0.38689279556274414\n"
     ]
    }
   ],
   "source": [
    "import time\n",
    "elapsed_time = time.time() - start_time\n",
    "print(elapsed_time)"
   ]
  },
  {
   "cell_type": "code",
   "execution_count": 154,
   "metadata": {
    "tags": [],
    "vscode": {
     "end_execution_time": "2020-10-12T04:15:52.660Z",
     "start_execution_time": "2020-10-12T04:15:52.651Z"
    }
   },
   "outputs": [
    {
     "name": "stdout",
     "output_type": "stream",
     "text": [
      "0.38888978958129883\n"
     ]
    }
   ],
   "source": [
    "import time\n",
    "elapsed_time = time.time() - start_time\n",
    "print(elapsed_time)"
   ]
  },
  {
   "cell_type": "code",
   "execution_count": 155,
   "metadata": {
    "tags": [],
    "vscode": {
     "end_execution_time": "2020-10-12T04:15:52.686Z",
     "start_execution_time": "2020-10-12T04:15:52.676Z"
    }
   },
   "outputs": [
    {
     "name": "stdout",
     "output_type": "stream",
     "text": [
      "0.3911008834838867\n"
     ]
    }
   ],
   "source": [
    "import time\n",
    "elapsed_time = time.time() - start_time\n",
    "print(elapsed_time)"
   ]
  },
  {
   "cell_type": "code",
   "execution_count": 156,
   "metadata": {
    "tags": [],
    "vscode": {
     "end_execution_time": "2020-10-12T04:15:52.707Z",
     "start_execution_time": "2020-10-12T04:15:52.693Z"
    }
   },
   "outputs": [
    {
     "name": "stdout",
     "output_type": "stream",
     "text": [
      "0.3934347629547119\n"
     ]
    }
   ],
   "source": [
    "import time\n",
    "elapsed_time = time.time() - start_time\n",
    "print(elapsed_time)"
   ]
  },
  {
   "cell_type": "code",
   "execution_count": 157,
   "metadata": {
    "tags": [],
    "vscode": {
     "end_execution_time": "2020-10-12T04:15:52.721Z",
     "start_execution_time": "2020-10-12T04:15:52.712Z"
    }
   },
   "outputs": [
    {
     "name": "stdout",
     "output_type": "stream",
     "text": [
      "0.3954460620880127\n"
     ]
    }
   ],
   "source": [
    "import time\n",
    "elapsed_time = time.time() - start_time\n",
    "print(elapsed_time)"
   ]
  },
  {
   "cell_type": "code",
   "execution_count": 158,
   "metadata": {
    "tags": [],
    "vscode": {
     "end_execution_time": "2020-10-12T04:15:52.735Z",
     "start_execution_time": "2020-10-12T04:15:52.727Z"
    }
   },
   "outputs": [
    {
     "name": "stdout",
     "output_type": "stream",
     "text": [
      "0.4013059139251709\n"
     ]
    }
   ],
   "source": [
    "import time\n",
    "elapsed_time = time.time() - start_time\n",
    "print(elapsed_time)"
   ]
  },
  {
   "cell_type": "code",
   "execution_count": 159,
   "metadata": {
    "tags": [],
    "vscode": {
     "end_execution_time": "2020-10-12T04:15:52.748Z",
     "start_execution_time": "2020-10-12T04:15:52.740Z"
    }
   },
   "outputs": [
    {
     "name": "stdout",
     "output_type": "stream",
     "text": [
      "0.40357184410095215\n"
     ]
    }
   ],
   "source": [
    "import time\n",
    "elapsed_time = time.time() - start_time\n",
    "print(elapsed_time)"
   ]
  },
  {
   "cell_type": "code",
   "execution_count": 160,
   "metadata": {
    "tags": [],
    "vscode": {
     "end_execution_time": "2020-10-12T04:15:52.771Z",
     "start_execution_time": "2020-10-12T04:15:52.756Z"
    }
   },
   "outputs": [
    {
     "name": "stdout",
     "output_type": "stream",
     "text": [
      "0.40610194206237793\n"
     ]
    }
   ],
   "source": [
    "import time\n",
    "elapsed_time = time.time() - start_time\n",
    "print(elapsed_time)"
   ]
  },
  {
   "cell_type": "code",
   "execution_count": 161,
   "metadata": {
    "tags": [],
    "vscode": {
     "end_execution_time": "2020-10-12T04:15:52.792Z",
     "start_execution_time": "2020-10-12T04:15:52.778Z"
    }
   },
   "outputs": [
    {
     "name": "stdout",
     "output_type": "stream",
     "text": [
      "0.4080650806427002\n"
     ]
    }
   ],
   "source": [
    "import time\n",
    "elapsed_time = time.time() - start_time\n",
    "print(elapsed_time)"
   ]
  },
  {
   "cell_type": "code",
   "execution_count": 162,
   "metadata": {
    "tags": [],
    "vscode": {
     "end_execution_time": "2020-10-12T04:15:52.806Z",
     "start_execution_time": "2020-10-12T04:15:52.797Z"
    }
   },
   "outputs": [
    {
     "name": "stdout",
     "output_type": "stream",
     "text": [
      "0.4101979732513428\n"
     ]
    }
   ],
   "source": [
    "import time\n",
    "elapsed_time = time.time() - start_time\n",
    "print(elapsed_time)"
   ]
  },
  {
   "cell_type": "code",
   "execution_count": 163,
   "metadata": {
    "tags": [],
    "vscode": {
     "end_execution_time": "2020-10-12T04:15:52.823Z",
     "start_execution_time": "2020-10-12T04:15:52.812Z"
    }
   },
   "outputs": [
    {
     "name": "stdout",
     "output_type": "stream",
     "text": [
      "0.41228795051574707\n"
     ]
    }
   ],
   "source": [
    "import time\n",
    "elapsed_time = time.time() - start_time\n",
    "print(elapsed_time)"
   ]
  },
  {
   "cell_type": "code",
   "execution_count": 164,
   "metadata": {
    "tags": [],
    "vscode": {
     "end_execution_time": "2020-10-12T04:15:52.839Z",
     "start_execution_time": "2020-10-12T04:15:52.828Z"
    }
   },
   "outputs": [
    {
     "name": "stdout",
     "output_type": "stream",
     "text": [
      "0.414705753326416\n"
     ]
    }
   ],
   "source": [
    "import time\n",
    "elapsed_time = time.time() - start_time\n",
    "print(elapsed_time)"
   ]
  },
  {
   "cell_type": "code",
   "execution_count": 165,
   "metadata": {
    "tags": [],
    "vscode": {
     "end_execution_time": "2020-10-12T04:15:52.855Z",
     "start_execution_time": "2020-10-12T04:15:52.844Z"
    }
   },
   "outputs": [
    {
     "name": "stdout",
     "output_type": "stream",
     "text": [
      "0.41675281524658203\n"
     ]
    }
   ],
   "source": [
    "import time\n",
    "elapsed_time = time.time() - start_time\n",
    "print(elapsed_time)"
   ]
  },
  {
   "cell_type": "code",
   "execution_count": 166,
   "metadata": {
    "tags": [],
    "vscode": {
     "end_execution_time": "2020-10-12T04:15:52.872Z",
     "start_execution_time": "2020-10-12T04:15:52.860Z"
    }
   },
   "outputs": [
    {
     "name": "stdout",
     "output_type": "stream",
     "text": [
      "0.41861891746520996\n"
     ]
    }
   ],
   "source": [
    "import time\n",
    "elapsed_time = time.time() - start_time\n",
    "print(elapsed_time)"
   ]
  },
  {
   "cell_type": "code",
   "execution_count": 167,
   "metadata": {
    "tags": [],
    "vscode": {
     "end_execution_time": "2020-10-12T04:15:52.890Z",
     "start_execution_time": "2020-10-12T04:15:52.877Z"
    }
   },
   "outputs": [
    {
     "name": "stdout",
     "output_type": "stream",
     "text": [
      "0.4207649230957031\n"
     ]
    }
   ],
   "source": [
    "import time\n",
    "elapsed_time = time.time() - start_time\n",
    "print(elapsed_time)"
   ]
  },
  {
   "cell_type": "code",
   "execution_count": 168,
   "metadata": {
    "tags": [],
    "vscode": {
     "end_execution_time": "2020-10-12T04:15:52.908Z",
     "start_execution_time": "2020-10-12T04:15:52.899Z"
    }
   },
   "outputs": [
    {
     "name": "stdout",
     "output_type": "stream",
     "text": [
      "0.42282700538635254\n"
     ]
    }
   ],
   "source": [
    "import time\n",
    "elapsed_time = time.time() - start_time\n",
    "print(elapsed_time)"
   ]
  },
  {
   "cell_type": "code",
   "execution_count": 169,
   "metadata": {
    "tags": [],
    "vscode": {
     "end_execution_time": "2020-10-12T04:15:52.925Z",
     "start_execution_time": "2020-10-12T04:15:52.916Z"
    }
   },
   "outputs": [
    {
     "name": "stdout",
     "output_type": "stream",
     "text": [
      "0.4250040054321289\n"
     ]
    }
   ],
   "source": [
    "import time\n",
    "elapsed_time = time.time() - start_time\n",
    "print(elapsed_time)"
   ]
  },
  {
   "cell_type": "code",
   "execution_count": 170,
   "metadata": {
    "tags": [],
    "vscode": {
     "end_execution_time": "2020-10-12T04:15:52.942Z",
     "start_execution_time": "2020-10-12T04:15:52.933Z"
    }
   },
   "outputs": [
    {
     "name": "stdout",
     "output_type": "stream",
     "text": [
      "0.4272639751434326\n"
     ]
    }
   ],
   "source": [
    "import time\n",
    "elapsed_time = time.time() - start_time\n",
    "print(elapsed_time)"
   ]
  },
  {
   "cell_type": "code",
   "execution_count": 171,
   "metadata": {
    "tags": [],
    "vscode": {
     "end_execution_time": "2020-10-12T04:15:52.961Z",
     "start_execution_time": "2020-10-12T04:15:52.952Z"
    }
   },
   "outputs": [
    {
     "name": "stdout",
     "output_type": "stream",
     "text": [
      "0.4293677806854248\n"
     ]
    }
   ],
   "source": [
    "import time\n",
    "elapsed_time = time.time() - start_time\n",
    "print(elapsed_time)"
   ]
  },
  {
   "cell_type": "code",
   "execution_count": 172,
   "metadata": {
    "tags": [],
    "vscode": {
     "end_execution_time": "2020-10-12T04:15:52.979Z",
     "start_execution_time": "2020-10-12T04:15:52.970Z"
    }
   },
   "outputs": [
    {
     "name": "stdout",
     "output_type": "stream",
     "text": [
      "0.4313778877258301\n"
     ]
    }
   ],
   "source": [
    "import time\n",
    "elapsed_time = time.time() - start_time\n",
    "print(elapsed_time)"
   ]
  },
  {
   "cell_type": "code",
   "execution_count": 173,
   "metadata": {
    "tags": [],
    "vscode": {
     "end_execution_time": "2020-10-12T04:15:52.999Z",
     "start_execution_time": "2020-10-12T04:15:52.990Z"
    }
   },
   "outputs": [
    {
     "name": "stdout",
     "output_type": "stream",
     "text": [
      "0.43345093727111816\n"
     ]
    }
   ],
   "source": [
    "import time\n",
    "elapsed_time = time.time() - start_time\n",
    "print(elapsed_time)"
   ]
  },
  {
   "cell_type": "code",
   "execution_count": 174,
   "metadata": {
    "tags": [],
    "vscode": {
     "end_execution_time": "2020-10-12T04:15:53.021Z",
     "start_execution_time": "2020-10-12T04:15:53.008Z"
    }
   },
   "outputs": [
    {
     "name": "stdout",
     "output_type": "stream",
     "text": [
      "0.4391489028930664\n"
     ]
    }
   ],
   "source": [
    "import time\n",
    "elapsed_time = time.time() - start_time\n",
    "print(elapsed_time)"
   ]
  },
  {
   "cell_type": "code",
   "execution_count": 175,
   "metadata": {
    "tags": [],
    "vscode": {
     "end_execution_time": "2020-10-12T04:15:53.041Z",
     "start_execution_time": "2020-10-12T04:15:53.032Z"
    }
   },
   "outputs": [
    {
     "name": "stdout",
     "output_type": "stream",
     "text": [
      "0.4428417682647705\n"
     ]
    }
   ],
   "source": [
    "import time\n",
    "elapsed_time = time.time() - start_time\n",
    "print(elapsed_time)"
   ]
  },
  {
   "cell_type": "code",
   "execution_count": 176,
   "metadata": {
    "tags": [],
    "vscode": {
     "end_execution_time": "2020-10-12T04:15:53.055Z",
     "start_execution_time": "2020-10-12T04:15:53.046Z"
    }
   },
   "outputs": [
    {
     "name": "stdout",
     "output_type": "stream",
     "text": [
      "0.445645809173584\n"
     ]
    }
   ],
   "source": [
    "import time\n",
    "elapsed_time = time.time() - start_time\n",
    "print(elapsed_time)"
   ]
  },
  {
   "cell_type": "code",
   "execution_count": 177,
   "metadata": {
    "tags": [],
    "vscode": {
     "end_execution_time": "2020-10-12T04:15:53.071Z",
     "start_execution_time": "2020-10-12T04:15:53.060Z"
    }
   },
   "outputs": [
    {
     "name": "stdout",
     "output_type": "stream",
     "text": [
      "0.44821786880493164\n"
     ]
    }
   ],
   "source": [
    "import time\n",
    "elapsed_time = time.time() - start_time\n",
    "print(elapsed_time)"
   ]
  },
  {
   "cell_type": "code",
   "execution_count": 178,
   "metadata": {
    "tags": [],
    "vscode": {
     "end_execution_time": "2020-10-12T04:15:53.088Z",
     "start_execution_time": "2020-10-12T04:15:53.077Z"
    }
   },
   "outputs": [
    {
     "name": "stdout",
     "output_type": "stream",
     "text": [
      "0.45035481452941895\n"
     ]
    }
   ],
   "source": [
    "import time\n",
    "elapsed_time = time.time() - start_time\n",
    "print(elapsed_time)"
   ]
  },
  {
   "cell_type": "code",
   "execution_count": 179,
   "metadata": {
    "tags": [],
    "vscode": {
     "end_execution_time": "2020-10-12T04:15:53.105Z",
     "start_execution_time": "2020-10-12T04:15:53.094Z"
    }
   },
   "outputs": [
    {
     "name": "stdout",
     "output_type": "stream",
     "text": [
      "0.4524219036102295\n"
     ]
    }
   ],
   "source": [
    "import time\n",
    "elapsed_time = time.time() - start_time\n",
    "print(elapsed_time)"
   ]
  },
  {
   "cell_type": "code",
   "execution_count": 180,
   "metadata": {
    "tags": [],
    "vscode": {
     "end_execution_time": "2020-10-12T04:15:53.122Z",
     "start_execution_time": "2020-10-12T04:15:53.111Z"
    }
   },
   "outputs": [
    {
     "name": "stdout",
     "output_type": "stream",
     "text": [
      "0.45478081703186035\n"
     ]
    }
   ],
   "source": [
    "import time\n",
    "elapsed_time = time.time() - start_time\n",
    "print(elapsed_time)"
   ]
  },
  {
   "cell_type": "code",
   "execution_count": 181,
   "metadata": {
    "tags": [],
    "vscode": {
     "end_execution_time": "2020-10-12T04:15:53.139Z",
     "start_execution_time": "2020-10-12T04:15:53.128Z"
    }
   },
   "outputs": [
    {
     "name": "stdout",
     "output_type": "stream",
     "text": [
      "0.4567148685455322\n"
     ]
    }
   ],
   "source": [
    "import time\n",
    "elapsed_time = time.time() - start_time\n",
    "print(elapsed_time)"
   ]
  },
  {
   "cell_type": "code",
   "execution_count": 182,
   "metadata": {
    "tags": [],
    "vscode": {
     "end_execution_time": "2020-10-12T04:15:53.155Z",
     "start_execution_time": "2020-10-12T04:15:53.144Z"
    }
   },
   "outputs": [
    {
     "name": "stdout",
     "output_type": "stream",
     "text": [
      "0.4594259262084961\n"
     ]
    }
   ],
   "source": [
    "import time\n",
    "elapsed_time = time.time() - start_time\n",
    "print(elapsed_time)"
   ]
  },
  {
   "cell_type": "code",
   "execution_count": 183,
   "metadata": {
    "tags": [],
    "vscode": {
     "end_execution_time": "2020-10-12T04:15:53.172Z",
     "start_execution_time": "2020-10-12T04:15:53.161Z"
    }
   },
   "outputs": [
    {
     "name": "stdout",
     "output_type": "stream",
     "text": [
      "0.46161794662475586\n"
     ]
    }
   ],
   "source": [
    "import time\n",
    "elapsed_time = time.time() - start_time\n",
    "print(elapsed_time)"
   ]
  },
  {
   "cell_type": "code",
   "execution_count": 184,
   "metadata": {
    "tags": [],
    "vscode": {
     "end_execution_time": "2020-10-12T04:15:53.189Z",
     "start_execution_time": "2020-10-12T04:15:53.177Z"
    }
   },
   "outputs": [
    {
     "name": "stdout",
     "output_type": "stream",
     "text": [
      "0.4798548221588135\n"
     ]
    }
   ],
   "source": [
    "import time\n",
    "elapsed_time = time.time() - start_time\n",
    "print(elapsed_time)"
   ]
  },
  {
   "cell_type": "code",
   "execution_count": 185,
   "metadata": {
    "tags": [],
    "vscode": {
     "end_execution_time": "2020-10-12T04:15:53.206Z",
     "start_execution_time": "2020-10-12T04:15:53.195Z"
    }
   },
   "outputs": [
    {
     "name": "stdout",
     "output_type": "stream",
     "text": [
      "0.4836118221282959\n"
     ]
    }
   ],
   "source": [
    "import time\n",
    "elapsed_time = time.time() - start_time\n",
    "print(elapsed_time)"
   ]
  },
  {
   "cell_type": "code",
   "execution_count": 186,
   "metadata": {
    "tags": [],
    "vscode": {
     "end_execution_time": "2020-10-12T04:15:53.220Z",
     "start_execution_time": "2020-10-12T04:15:53.211Z"
    }
   },
   "outputs": [
    {
     "name": "stdout",
     "output_type": "stream",
     "text": [
      "0.48583197593688965\n"
     ]
    }
   ],
   "source": [
    "import time\n",
    "elapsed_time = time.time() - start_time\n",
    "print(elapsed_time)"
   ]
  },
  {
   "cell_type": "code",
   "execution_count": 187,
   "metadata": {
    "tags": [],
    "vscode": {
     "end_execution_time": "2020-10-12T04:15:53.239Z",
     "start_execution_time": "2020-10-12T04:15:53.230Z"
    }
   },
   "outputs": [
    {
     "name": "stdout",
     "output_type": "stream",
     "text": [
      "0.48785877227783203\n"
     ]
    }
   ],
   "source": [
    "import time\n",
    "elapsed_time = time.time() - start_time\n",
    "print(elapsed_time)"
   ]
  },
  {
   "cell_type": "code",
   "execution_count": 188,
   "metadata": {
    "tags": [],
    "vscode": {
     "end_execution_time": "2020-10-12T04:15:53.258Z",
     "start_execution_time": "2020-10-12T04:15:53.249Z"
    }
   },
   "outputs": [
    {
     "name": "stdout",
     "output_type": "stream",
     "text": [
      "0.49017882347106934\n"
     ]
    }
   ],
   "source": [
    "import time\n",
    "elapsed_time = time.time() - start_time\n",
    "print(elapsed_time)"
   ]
  },
  {
   "cell_type": "code",
   "execution_count": 189,
   "metadata": {
    "tags": [],
    "vscode": {
     "end_execution_time": "2020-10-12T04:15:53.277Z",
     "start_execution_time": "2020-10-12T04:15:53.263Z"
    }
   },
   "outputs": [
    {
     "name": "stdout",
     "output_type": "stream",
     "text": [
      "0.4928126335144043\n"
     ]
    }
   ],
   "source": [
    "import time\n",
    "elapsed_time = time.time() - start_time\n",
    "print(elapsed_time)"
   ]
  },
  {
   "cell_type": "code",
   "execution_count": 190,
   "metadata": {
    "tags": [],
    "vscode": {
     "end_execution_time": "2020-10-12T04:15:53.296Z",
     "start_execution_time": "2020-10-12T04:15:53.287Z"
    }
   },
   "outputs": [
    {
     "name": "stdout",
     "output_type": "stream",
     "text": [
      "0.49485278129577637\n"
     ]
    }
   ],
   "source": [
    "import time\n",
    "elapsed_time = time.time() - start_time\n",
    "print(elapsed_time)"
   ]
  },
  {
   "cell_type": "code",
   "execution_count": 191,
   "metadata": {
    "tags": [],
    "vscode": {
     "end_execution_time": "2020-10-12T04:15:53.316Z",
     "start_execution_time": "2020-10-12T04:15:53.307Z"
    }
   },
   "outputs": [
    {
     "name": "stdout",
     "output_type": "stream",
     "text": [
      "0.4966919422149658\n"
     ]
    }
   ],
   "source": [
    "import time\n",
    "elapsed_time = time.time() - start_time\n",
    "print(elapsed_time)"
   ]
  },
  {
   "cell_type": "code",
   "execution_count": 192,
   "metadata": {
    "tags": [],
    "vscode": {
     "end_execution_time": "2020-10-12T04:15:53.338Z",
     "start_execution_time": "2020-10-12T04:15:53.324Z"
    }
   },
   "outputs": [
    {
     "name": "stdout",
     "output_type": "stream",
     "text": [
      "0.4986889362335205\n"
     ]
    }
   ],
   "source": [
    "import time\n",
    "elapsed_time = time.time() - start_time\n",
    "print(elapsed_time)"
   ]
  },
  {
   "cell_type": "code",
   "execution_count": 193,
   "metadata": {
    "tags": [],
    "vscode": {
     "end_execution_time": "2020-10-12T04:15:53.352Z",
     "start_execution_time": "2020-10-12T04:15:53.343Z"
    }
   },
   "outputs": [
    {
     "name": "stdout",
     "output_type": "stream",
     "text": [
      "0.5010349750518799\n"
     ]
    }
   ],
   "source": [
    "import time\n",
    "elapsed_time = time.time() - start_time\n",
    "print(elapsed_time)"
   ]
  },
  {
   "cell_type": "code",
   "execution_count": 194,
   "metadata": {
    "tags": [],
    "vscode": {
     "end_execution_time": "2020-10-12T04:15:53.365Z",
     "start_execution_time": "2020-10-12T04:15:53.357Z"
    }
   },
   "outputs": [
    {
     "name": "stdout",
     "output_type": "stream",
     "text": [
      "0.5040299892425537\n"
     ]
    }
   ],
   "source": [
    "import time\n",
    "elapsed_time = time.time() - start_time\n",
    "print(elapsed_time)"
   ]
  },
  {
   "cell_type": "code",
   "execution_count": 195,
   "metadata": {
    "tags": [],
    "vscode": {
     "end_execution_time": "2020-10-12T04:15:53.379Z",
     "start_execution_time": "2020-10-12T04:15:53.370Z"
    }
   },
   "outputs": [
    {
     "name": "stdout",
     "output_type": "stream",
     "text": [
      "0.5061349868774414\n"
     ]
    }
   ],
   "source": [
    "import time\n",
    "elapsed_time = time.time() - start_time\n",
    "print(elapsed_time)"
   ]
  },
  {
   "cell_type": "code",
   "execution_count": 196,
   "metadata": {
    "tags": [],
    "vscode": {
     "end_execution_time": "2020-10-12T04:15:53.397Z",
     "start_execution_time": "2020-10-12T04:15:53.388Z"
    }
   },
   "outputs": [
    {
     "name": "stdout",
     "output_type": "stream",
     "text": [
      "0.5081987380981445\n"
     ]
    }
   ],
   "source": [
    "import time\n",
    "elapsed_time = time.time() - start_time\n",
    "print(elapsed_time)"
   ]
  },
  {
   "cell_type": "code",
   "execution_count": 197,
   "metadata": {
    "tags": [],
    "vscode": {
     "end_execution_time": "2020-10-12T04:15:53.420Z",
     "start_execution_time": "2020-10-12T04:15:53.407Z"
    }
   },
   "outputs": [
    {
     "name": "stdout",
     "output_type": "stream",
     "text": [
      "0.5101528167724609\n"
     ]
    }
   ],
   "source": [
    "import time\n",
    "elapsed_time = time.time() - start_time\n",
    "print(elapsed_time)"
   ]
  },
  {
   "cell_type": "code",
   "execution_count": 198,
   "metadata": {
    "tags": [],
    "vscode": {
     "end_execution_time": "2020-10-12T04:15:53.438Z",
     "start_execution_time": "2020-10-12T04:15:53.426Z"
    }
   },
   "outputs": [
    {
     "name": "stdout",
     "output_type": "stream",
     "text": [
      "0.5123608112335205\n"
     ]
    }
   ],
   "source": [
    "import time\n",
    "elapsed_time = time.time() - start_time\n",
    "print(elapsed_time)"
   ]
  },
  {
   "cell_type": "code",
   "execution_count": 199,
   "metadata": {
    "tags": [],
    "vscode": {
     "end_execution_time": "2020-10-12T04:15:53.488Z",
     "start_execution_time": "2020-10-12T04:15:53.468Z"
    }
   },
   "outputs": [
    {
     "name": "stdout",
     "output_type": "stream",
     "text": [
      "0.5144598484039307\n"
     ]
    }
   ],
   "source": [
    "import time\n",
    "elapsed_time = time.time() - start_time\n",
    "print(elapsed_time)"
   ]
  },
  {
   "cell_type": "code",
   "execution_count": 200,
   "metadata": {
    "tags": [],
    "vscode": {
     "end_execution_time": "2020-10-12T04:15:53.517Z",
     "start_execution_time": "2020-10-12T04:15:53.507Z"
    }
   },
   "outputs": [
    {
     "name": "stdout",
     "output_type": "stream",
     "text": [
      "0.5166189670562744\n"
     ]
    }
   ],
   "source": [
    "import time\n",
    "elapsed_time = time.time() - start_time\n",
    "print(elapsed_time)"
   ]
  },
  {
   "cell_type": "code",
   "execution_count": 201,
   "metadata": {
    "tags": [],
    "vscode": {
     "end_execution_time": "2020-10-12T04:15:53.531Z",
     "start_execution_time": "2020-10-12T04:15:53.522Z"
    }
   },
   "outputs": [
    {
     "name": "stdout",
     "output_type": "stream",
     "text": [
      "0.5185678005218506\n"
     ]
    }
   ],
   "source": [
    "import time\n",
    "elapsed_time = time.time() - start_time\n",
    "print(elapsed_time)"
   ]
  },
  {
   "cell_type": "code",
   "execution_count": 202,
   "metadata": {
    "tags": [],
    "vscode": {
     "end_execution_time": "2020-10-12T04:15:53.545Z",
     "start_execution_time": "2020-10-12T04:15:53.537Z"
    }
   },
   "outputs": [
    {
     "name": "stdout",
     "output_type": "stream",
     "text": [
      "0.5205607414245605\n"
     ]
    }
   ],
   "source": [
    "import time\n",
    "elapsed_time = time.time() - start_time\n",
    "print(elapsed_time)"
   ]
  },
  {
   "cell_type": "code",
   "execution_count": 203,
   "metadata": {
    "tags": [],
    "vscode": {
     "end_execution_time": "2020-10-12T04:15:53.561Z",
     "start_execution_time": "2020-10-12T04:15:53.550Z"
    }
   },
   "outputs": [
    {
     "name": "stdout",
     "output_type": "stream",
     "text": [
      "0.5225207805633545\n"
     ]
    }
   ],
   "source": [
    "import time\n",
    "elapsed_time = time.time() - start_time\n",
    "print(elapsed_time)"
   ]
  },
  {
   "cell_type": "code",
   "execution_count": 204,
   "metadata": {
    "tags": [],
    "vscode": {
     "end_execution_time": "2020-10-12T04:15:53.576Z",
     "start_execution_time": "2020-10-12T04:15:53.567Z"
    }
   },
   "outputs": [
    {
     "name": "stdout",
     "output_type": "stream",
     "text": [
      "0.5245869159698486\n"
     ]
    }
   ],
   "source": [
    "import time\n",
    "elapsed_time = time.time() - start_time\n",
    "print(elapsed_time)"
   ]
  },
  {
   "cell_type": "code",
   "execution_count": 205,
   "metadata": {
    "tags": [],
    "vscode": {
     "end_execution_time": "2020-10-12T04:15:53.593Z",
     "start_execution_time": "2020-10-12T04:15:53.585Z"
    }
   },
   "outputs": [
    {
     "name": "stdout",
     "output_type": "stream",
     "text": [
      "0.5266759395599365\n"
     ]
    }
   ],
   "source": [
    "import time\n",
    "elapsed_time = time.time() - start_time\n",
    "print(elapsed_time)"
   ]
  },
  {
   "cell_type": "code",
   "execution_count": 206,
   "metadata": {
    "tags": [],
    "vscode": {
     "end_execution_time": "2020-10-12T04:15:53.612Z",
     "start_execution_time": "2020-10-12T04:15:53.603Z"
    }
   },
   "outputs": [
    {
     "name": "stdout",
     "output_type": "stream",
     "text": [
      "0.5287747383117676\n"
     ]
    }
   ],
   "source": [
    "import time\n",
    "elapsed_time = time.time() - start_time\n",
    "print(elapsed_time)"
   ]
  },
  {
   "cell_type": "code",
   "execution_count": 207,
   "metadata": {
    "tags": [],
    "vscode": {
     "end_execution_time": "2020-10-12T04:15:53.631Z",
     "start_execution_time": "2020-10-12T04:15:53.622Z"
    }
   },
   "outputs": [
    {
     "name": "stdout",
     "output_type": "stream",
     "text": [
      "0.5311317443847656\n"
     ]
    }
   ],
   "source": [
    "import time\n",
    "elapsed_time = time.time() - start_time\n",
    "print(elapsed_time)"
   ]
  },
  {
   "cell_type": "code",
   "execution_count": 208,
   "metadata": {
    "tags": [],
    "vscode": {
     "end_execution_time": "2020-10-12T04:15:53.655Z",
     "start_execution_time": "2020-10-12T04:15:53.641Z"
    }
   },
   "outputs": [
    {
     "name": "stdout",
     "output_type": "stream",
     "text": [
      "0.5341958999633789\n"
     ]
    }
   ],
   "source": [
    "import time\n",
    "elapsed_time = time.time() - start_time\n",
    "print(elapsed_time)"
   ]
  },
  {
   "cell_type": "code",
   "execution_count": 209,
   "metadata": {
    "tags": [],
    "vscode": {
     "end_execution_time": "2020-10-12T04:15:53.675Z",
     "start_execution_time": "2020-10-12T04:15:53.660Z"
    }
   },
   "outputs": [
    {
     "name": "stdout",
     "output_type": "stream",
     "text": [
      "0.539700984954834\n"
     ]
    }
   ],
   "source": [
    "import time\n",
    "elapsed_time = time.time() - start_time\n",
    "print(elapsed_time)"
   ]
  },
  {
   "cell_type": "code",
   "execution_count": 210,
   "metadata": {
    "tags": [],
    "vscode": {
     "end_execution_time": "2020-10-12T04:15:53.693Z",
     "start_execution_time": "2020-10-12T04:15:53.681Z"
    }
   },
   "outputs": [
    {
     "name": "stdout",
     "output_type": "stream",
     "text": [
      "0.5446648597717285\n"
     ]
    }
   ],
   "source": [
    "import time\n",
    "elapsed_time = time.time() - start_time\n",
    "print(elapsed_time)"
   ]
  },
  {
   "cell_type": "code",
   "execution_count": 211,
   "metadata": {
    "tags": [],
    "vscode": {
     "end_execution_time": "2020-10-12T04:15:53.743Z",
     "start_execution_time": "2020-10-12T04:15:53.722Z"
    }
   },
   "outputs": [
    {
     "name": "stdout",
     "output_type": "stream",
     "text": [
      "0.5500097274780273\n"
     ]
    }
   ],
   "source": [
    "import time\n",
    "elapsed_time = time.time() - start_time\n",
    "print(elapsed_time)"
   ]
  },
  {
   "cell_type": "code",
   "execution_count": 212,
   "metadata": {
    "tags": [],
    "vscode": {
     "end_execution_time": "2020-10-12T04:15:53.784Z",
     "start_execution_time": "2020-10-12T04:15:53.755Z"
    }
   },
   "outputs": [
    {
     "name": "stdout",
     "output_type": "stream",
     "text": [
      "0.5543558597564697\n"
     ]
    }
   ],
   "source": [
    "import time\n",
    "elapsed_time = time.time() - start_time\n",
    "print(elapsed_time)"
   ]
  },
  {
   "cell_type": "code",
   "execution_count": 213,
   "metadata": {
    "tags": [],
    "vscode": {
     "end_execution_time": "2020-10-12T04:15:53.809Z",
     "start_execution_time": "2020-10-12T04:15:53.793Z"
    }
   },
   "outputs": [
    {
     "name": "stdout",
     "output_type": "stream",
     "text": [
      "0.5572569370269775\n"
     ]
    }
   ],
   "source": [
    "import time\n",
    "elapsed_time = time.time() - start_time\n",
    "print(elapsed_time)"
   ]
  },
  {
   "cell_type": "code",
   "execution_count": 214,
   "metadata": {
    "tags": [],
    "vscode": {
     "end_execution_time": "2020-10-12T04:15:53.843Z",
     "start_execution_time": "2020-10-12T04:15:53.827Z"
    }
   },
   "outputs": [
    {
     "name": "stdout",
     "output_type": "stream",
     "text": [
      "0.5598688125610352\n"
     ]
    }
   ],
   "source": [
    "import time\n",
    "elapsed_time = time.time() - start_time\n",
    "print(elapsed_time)"
   ]
  },
  {
   "cell_type": "code",
   "execution_count": 215,
   "metadata": {
    "tags": [],
    "vscode": {
     "end_execution_time": "2020-10-12T04:15:53.875Z",
     "start_execution_time": "2020-10-12T04:15:53.863Z"
    }
   },
   "outputs": [
    {
     "name": "stdout",
     "output_type": "stream",
     "text": [
      "0.5619988441467285\n"
     ]
    }
   ],
   "source": [
    "import time\n",
    "elapsed_time = time.time() - start_time\n",
    "print(elapsed_time)"
   ]
  },
  {
   "cell_type": "code",
   "execution_count": 216,
   "metadata": {
    "tags": [],
    "vscode": {
     "end_execution_time": "2020-10-12T04:15:53.907Z",
     "start_execution_time": "2020-10-12T04:15:53.894Z"
    }
   },
   "outputs": [
    {
     "name": "stdout",
     "output_type": "stream",
     "text": [
      "0.5640788078308105\n"
     ]
    }
   ],
   "source": [
    "import time\n",
    "elapsed_time = time.time() - start_time\n",
    "print(elapsed_time)"
   ]
  }
 ],
 "metadata": {
  "kernelspec": {
   "display_name": "Python 3.8.8 64-bit ('env2': conda)",
   "language": "python",
   "name": "python388jvsc74a57bd0fe1be3346b47391064495799f40a93b00202ae577d47d564da301bc75a086999"
  },
  "language_info": {
   "codemirror_mode": {
    "name": "ipython",
    "version": 3
   },
   "file_extension": ".py",
   "mimetype": "text/x-python",
   "name": "python",
   "nbconvert_exporter": "python",
   "pygments_lexer": "ipython3",
   "version": "3.8.8"
  },
  "metadata": {
   "interpreter": {
    "hash": "fe1be3346b47391064495799f40a93b00202ae577d47d564da301bc75a086999"
   }
  }
 },
 "nbformat": 4,
 "nbformat_minor": 2
}
